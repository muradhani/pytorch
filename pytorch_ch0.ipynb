{
  "nbformat": 4,
  "nbformat_minor": 0,
  "metadata": {
    "colab": {
      "provenance": [],
      "authorship_tag": "ABX9TyOQAupCkI+cJ6v/Pcbh+lVb",
      "include_colab_link": true
    },
    "kernelspec": {
      "name": "python3",
      "display_name": "Python 3"
    },
    "language_info": {
      "name": "python"
    },
    "accelerator": "GPU",
    "gpuClass": "standard"
  },
  "cells": [
    {
      "cell_type": "markdown",
      "metadata": {
        "id": "view-in-github",
        "colab_type": "text"
      },
      "source": [
        "<a href=\"https://colab.research.google.com/github/muradhani/pytorch/blob/main/pytorch_ch0.ipynb\" target=\"_parent\"><img src=\"https://colab.research.google.com/assets/colab-badge.svg\" alt=\"Open In Colab\"/></a>"
      ]
    },
    {
      "cell_type": "code",
      "execution_count": null,
      "metadata": {
        "colab": {
          "base_uri": "https://localhost:8080/"
        },
        "id": "zaHgIQ9wsujW",
        "outputId": "9f8c8475-9cc2-43ab-cf2a-a028f5ec0172"
      },
      "outputs": [
        {
          "output_type": "stream",
          "name": "stdout",
          "text": [
            "hello\n"
          ]
        }
      ],
      "source": [
        "print(\"hello\")"
      ]
    },
    {
      "cell_type": "code",
      "source": [
        "!nvidia-smi"
      ],
      "metadata": {
        "colab": {
          "base_uri": "https://localhost:8080/"
        },
        "id": "Muh_D0LBtHBg",
        "outputId": "9471df3e-1b8f-4dc2-d2ec-bfd50027bf27"
      },
      "execution_count": null,
      "outputs": [
        {
          "output_type": "stream",
          "name": "stdout",
          "text": [
            "Wed Jan 18 16:28:49 2023       \n",
            "+-----------------------------------------------------------------------------+\n",
            "| NVIDIA-SMI 460.32.03    Driver Version: 460.32.03    CUDA Version: 11.2     |\n",
            "|-------------------------------+----------------------+----------------------+\n",
            "| GPU  Name        Persistence-M| Bus-Id        Disp.A | Volatile Uncorr. ECC |\n",
            "| Fan  Temp  Perf  Pwr:Usage/Cap|         Memory-Usage | GPU-Util  Compute M. |\n",
            "|                               |                      |               MIG M. |\n",
            "|===============================+======================+======================|\n",
            "|   0  Tesla T4            Off  | 00000000:00:04.0 Off |                    0 |\n",
            "| N/A   69C    P0    29W /  70W |      0MiB / 15109MiB |      0%      Default |\n",
            "|                               |                      |                  N/A |\n",
            "+-------------------------------+----------------------+----------------------+\n",
            "                                                                               \n",
            "+-----------------------------------------------------------------------------+\n",
            "| Processes:                                                                  |\n",
            "|  GPU   GI   CI        PID   Type   Process name                  GPU Memory |\n",
            "|        ID   ID                                                   Usage      |\n",
            "|=============================================================================|\n",
            "|  No running processes found                                                 |\n",
            "+-----------------------------------------------------------------------------+\n"
          ]
        }
      ]
    },
    {
      "cell_type": "code",
      "source": [
        "#0.0 pytorch funcdamentals \n",
        "import torch \n",
        "import pandas as pd\n",
        "import numpy as np \n",
        "import matplotlib.pyplot as plt\n",
        "print(torch.__version__)"
      ],
      "metadata": {
        "colab": {
          "base_uri": "https://localhost:8080/"
        },
        "id": "WU2wKnHBuVvA",
        "outputId": "85111a39-4627-4d77-ded4-e6e9a776b09d"
      },
      "execution_count": null,
      "outputs": [
        {
          "output_type": "stream",
          "name": "stdout",
          "text": [
            "1.13.1+cu116\n"
          ]
        }
      ]
    },
    {
      "cell_type": "code",
      "source": [
        "#intro to tensor \n",
        "#creating tensors \n",
        "scalar = torch.tensor(7)\n",
        "scalar"
      ],
      "metadata": {
        "colab": {
          "base_uri": "https://localhost:8080/"
        },
        "id": "cYO83OFUv2Nw",
        "outputId": "6b3d33cc-b0d6-4a44-e371-f7449a03f84d"
      },
      "execution_count": null,
      "outputs": [
        {
          "output_type": "execute_result",
          "data": {
            "text/plain": [
              "tensor(7)"
            ]
          },
          "metadata": {},
          "execution_count": 6
        }
      ]
    },
    {
      "cell_type": "code",
      "source": [
        "#tensor dimension\n",
        "scalar.ndim"
      ],
      "metadata": {
        "colab": {
          "base_uri": "https://localhost:8080/"
        },
        "id": "G6LVve2sweNN",
        "outputId": "9c3de3e0-0733-4e69-deba-9d4b03f8e14b"
      },
      "execution_count": null,
      "outputs": [
        {
          "output_type": "execute_result",
          "data": {
            "text/plain": [
              "0"
            ]
          },
          "metadata": {},
          "execution_count": 7
        }
      ]
    },
    {
      "cell_type": "code",
      "source": [
        "#get tensor item back as an intger \n",
        "scalar.item()"
      ],
      "metadata": {
        "colab": {
          "base_uri": "https://localhost:8080/"
        },
        "id": "OPpxeFyxw0m2",
        "outputId": "a34651cf-c5d8-4980-9939-c66ed37f5370"
      },
      "execution_count": null,
      "outputs": [
        {
          "output_type": "execute_result",
          "data": {
            "text/plain": [
              "7"
            ]
          },
          "metadata": {},
          "execution_count": 9
        }
      ]
    },
    {
      "cell_type": "code",
      "source": [
        "#vector\n",
        "vector = torch.tensor([7,7])\n",
        "vector"
      ],
      "metadata": {
        "colab": {
          "base_uri": "https://localhost:8080/"
        },
        "id": "lWy1VUKNxKBL",
        "outputId": "5b71a22d-d40a-4b82-ec0a-67a140c8d00d"
      },
      "execution_count": null,
      "outputs": [
        {
          "output_type": "execute_result",
          "data": {
            "text/plain": [
              "tensor([7, 7])"
            ]
          },
          "metadata": {},
          "execution_count": 8
        }
      ]
    },
    {
      "cell_type": "code",
      "source": [
        "vector.ndim"
      ],
      "metadata": {
        "colab": {
          "base_uri": "https://localhost:8080/"
        },
        "id": "p1POHBoUxl2g",
        "outputId": "24fc282c-500c-4c70-923a-e2434a741069"
      },
      "execution_count": null,
      "outputs": [
        {
          "output_type": "execute_result",
          "data": {
            "text/plain": [
              "1"
            ]
          },
          "metadata": {},
          "execution_count": 11
        }
      ]
    },
    {
      "cell_type": "code",
      "source": [
        "vector.shape"
      ],
      "metadata": {
        "colab": {
          "base_uri": "https://localhost:8080/"
        },
        "id": "ZHURcMoOxwRb",
        "outputId": "17f2e87b-8f05-47e8-b617-0ba9a66d5867"
      },
      "execution_count": null,
      "outputs": [
        {
          "output_type": "execute_result",
          "data": {
            "text/plain": [
              "torch.Size([2])"
            ]
          },
          "metadata": {},
          "execution_count": 12
        }
      ]
    },
    {
      "cell_type": "code",
      "source": [
        "#matrix \n",
        "MATRIX = torch.tensor([[7,7],\n",
        "                      [9,10]])\n",
        "MATRIX"
      ],
      "metadata": {
        "colab": {
          "base_uri": "https://localhost:8080/"
        },
        "id": "jePIvAdZx6kV",
        "outputId": "b9467579-7b1b-4f30-baea-7f917313fa5f"
      },
      "execution_count": null,
      "outputs": [
        {
          "output_type": "execute_result",
          "data": {
            "text/plain": [
              "tensor([[ 7,  7],\n",
              "        [ 9, 10]])"
            ]
          },
          "metadata": {},
          "execution_count": 14
        }
      ]
    },
    {
      "cell_type": "code",
      "source": [
        "MATRIX.ndim"
      ],
      "metadata": {
        "colab": {
          "base_uri": "https://localhost:8080/"
        },
        "id": "IZAG3Q5WyOBG",
        "outputId": "01109958-409d-4903-cba8-da548f5d6f8e"
      },
      "execution_count": null,
      "outputs": [
        {
          "output_type": "execute_result",
          "data": {
            "text/plain": [
              "2"
            ]
          },
          "metadata": {},
          "execution_count": 15
        }
      ]
    },
    {
      "cell_type": "code",
      "source": [
        "MATRIX[0]"
      ],
      "metadata": {
        "colab": {
          "base_uri": "https://localhost:8080/"
        },
        "id": "yvP93gQAyUq0",
        "outputId": "622fd6a2-fde2-4d1c-a754-1e1784c8e3ee"
      },
      "execution_count": null,
      "outputs": [
        {
          "output_type": "execute_result",
          "data": {
            "text/plain": [
              "tensor([7, 7])"
            ]
          },
          "metadata": {},
          "execution_count": 17
        }
      ]
    },
    {
      "cell_type": "code",
      "source": [
        "MATRIX.shape"
      ],
      "metadata": {
        "colab": {
          "base_uri": "https://localhost:8080/"
        },
        "id": "Lj7t1Owqyg7k",
        "outputId": "34c68509-11bc-4257-efcf-37618a7407ba"
      },
      "execution_count": null,
      "outputs": [
        {
          "output_type": "execute_result",
          "data": {
            "text/plain": [
              "torch.Size([2, 2])"
            ]
          },
          "metadata": {},
          "execution_count": 18
        }
      ]
    },
    {
      "cell_type": "markdown",
      "source": [
        "this mean we got one 3 by 3 matrix "
      ],
      "metadata": {
        "id": "CxdU00vgzgVQ"
      }
    },
    {
      "cell_type": "code",
      "source": [
        "#tensor\n",
        "TENSOR = torch.tensor([\n",
        "    [\n",
        "    [1,2,3,3],\n",
        "    [4,5,6,6],\n",
        "    [7,8,9,9],\n",
        "    \n",
        "]\n",
        "])\n",
        "TENSOR"
      ],
      "metadata": {
        "colab": {
          "base_uri": "https://localhost:8080/"
        },
        "id": "Jb7TVCoFyqJI",
        "outputId": "383bec48-115b-494e-97ee-0f8a916de49d"
      },
      "execution_count": null,
      "outputs": [
        {
          "output_type": "execute_result",
          "data": {
            "text/plain": [
              "tensor([[[1, 2, 3, 3],\n",
              "         [4, 5, 6, 6],\n",
              "         [7, 8, 9, 9]]])"
            ]
          },
          "metadata": {},
          "execution_count": 28
        }
      ]
    },
    {
      "cell_type": "code",
      "source": [
        "TENSOR.ndim"
      ],
      "metadata": {
        "colab": {
          "base_uri": "https://localhost:8080/"
        },
        "id": "mADiAerKy9bT",
        "outputId": "dc2bc8e8-4489-4312-eefe-0f12c7bb933c"
      },
      "execution_count": null,
      "outputs": [
        {
          "output_type": "execute_result",
          "data": {
            "text/plain": [
              "3"
            ]
          },
          "metadata": {},
          "execution_count": 24
        }
      ]
    },
    {
      "cell_type": "code",
      "source": [
        "TENSOR.shape"
      ],
      "metadata": {
        "colab": {
          "base_uri": "https://localhost:8080/"
        },
        "id": "7IyIgBoJzSDx",
        "outputId": "122fafac-cb21-4c5a-a514-a27215d499d3"
      },
      "execution_count": null,
      "outputs": [
        {
          "output_type": "execute_result",
          "data": {
            "text/plain": [
              "torch.Size([1, 3, 4])"
            ]
          },
          "metadata": {},
          "execution_count": 29
        }
      ]
    },
    {
      "cell_type": "markdown",
      "source": [
        "## Random tensors"
      ],
      "metadata": {
        "id": "YMFpS58d3J8y"
      }
    },
    {
      "cell_type": "code",
      "source": [
        "#create random tensor of size (3,4)\n",
        "random_tensor = torch.rand(3,4)\n",
        "random_tensor"
      ],
      "metadata": {
        "colab": {
          "base_uri": "https://localhost:8080/"
        },
        "id": "w0d_uIKO2dfb",
        "outputId": "b74125a8-a557-433c-f5e1-8b3cd1b8e0b4"
      },
      "execution_count": null,
      "outputs": [
        {
          "output_type": "execute_result",
          "data": {
            "text/plain": [
              "tensor([[0.0648, 0.5577, 0.4620, 0.1655],\n",
              "        [0.1009, 0.2658, 0.8873, 0.0542],\n",
              "        [0.9553, 0.6825, 0.6419, 0.6253]])"
            ]
          },
          "metadata": {},
          "execution_count": 9
        }
      ]
    },
    {
      "cell_type": "code",
      "source": [
        "#creating a random tensor with similar shape to an image tensor\n",
        "random_image_size_tensor = torch.rand(size=(3,224,224))#height,width,colour (RGB)\n",
        "random_image_size_tensor.shape,random_image_size_tensor.ndim"
      ],
      "metadata": {
        "colab": {
          "base_uri": "https://localhost:8080/"
        },
        "id": "6yo41vZn5VoS",
        "outputId": "6d878b53-f595-49b6-d156-b00c8b82c327"
      },
      "execution_count": null,
      "outputs": [
        {
          "output_type": "execute_result",
          "data": {
            "text/plain": [
              "(torch.Size([224, 224, 3]), 3)"
            ]
          },
          "metadata": {},
          "execution_count": 32
        }
      ]
    },
    {
      "cell_type": "code",
      "source": [
        "torch.rand(3,3)"
      ],
      "metadata": {
        "colab": {
          "base_uri": "https://localhost:8080/"
        },
        "id": "1KeBuqzCdSLH",
        "outputId": "c32e01c3-79f1-4b63-8fce-3038ef87b643"
      },
      "execution_count": null,
      "outputs": [
        {
          "output_type": "execute_result",
          "data": {
            "text/plain": [
              "tensor([[0.5388, 0.6745, 0.2045],\n",
              "        [0.9168, 0.3334, 0.4489],\n",
              "        [0.4875, 0.5149, 0.3662]])"
            ]
          },
          "metadata": {},
          "execution_count": 3
        }
      ]
    },
    {
      "cell_type": "code",
      "source": [
        " #creating tensor full of zeros \n",
        " zeros = torch.zeros(size=(3,4))\n",
        " zeros"
      ],
      "metadata": {
        "colab": {
          "base_uri": "https://localhost:8080/"
        },
        "id": "HXeQ44eNgH2T",
        "outputId": "e4179239-115d-4dac-994e-50f5b697c05c"
      },
      "execution_count": null,
      "outputs": [
        {
          "output_type": "execute_result",
          "data": {
            "text/plain": [
              "tensor([[0., 0., 0., 0.],\n",
              "        [0., 0., 0., 0.],\n",
              "        [0., 0., 0., 0.]])"
            ]
          },
          "metadata": {},
          "execution_count": 7
        }
      ]
    },
    {
      "cell_type": "code",
      "source": [
        "zeros * random_tensor"
      ],
      "metadata": {
        "colab": {
          "base_uri": "https://localhost:8080/"
        },
        "id": "idGpGmiYgieq",
        "outputId": "a0683423-61a2-4e0d-8dd1-8630cb75df08"
      },
      "execution_count": null,
      "outputs": [
        {
          "output_type": "execute_result",
          "data": {
            "text/plain": [
              "tensor([[0., 0., 0., 0.],\n",
              "        [0., 0., 0., 0.],\n",
              "        [0., 0., 0., 0.]])"
            ]
          },
          "metadata": {},
          "execution_count": 10
        }
      ]
    },
    {
      "cell_type": "code",
      "source": [
        "#create tensor all ones\n",
        "ones = torch.ones(size = (3,4))\n",
        "ones"
      ],
      "metadata": {
        "colab": {
          "base_uri": "https://localhost:8080/"
        },
        "id": "xoBVBQI8hIKo",
        "outputId": "a1cc03f0-aec7-441b-b75c-50c33969ce70"
      },
      "execution_count": null,
      "outputs": [
        {
          "output_type": "execute_result",
          "data": {
            "text/plain": [
              "tensor([[1., 1., 1., 1.],\n",
              "        [1., 1., 1., 1.],\n",
              "        [1., 1., 1., 1.]])"
            ]
          },
          "metadata": {},
          "execution_count": 13
        }
      ]
    },
    {
      "cell_type": "code",
      "source": [
        "ones.dtype"
      ],
      "metadata": {
        "colab": {
          "base_uri": "https://localhost:8080/"
        },
        "id": "LVtyg9IRhQKS",
        "outputId": "c611ab58-17e7-431e-a880-143beb5c8855"
      },
      "execution_count": null,
      "outputs": [
        {
          "output_type": "execute_result",
          "data": {
            "text/plain": [
              "torch.float32"
            ]
          },
          "metadata": {},
          "execution_count": 14
        }
      ]
    },
    {
      "cell_type": "code",
      "source": [
        "random_tensor.dtype"
      ],
      "metadata": {
        "colab": {
          "base_uri": "https://localhost:8080/"
        },
        "id": "O-QbcCHxhS9C",
        "outputId": "75b0981d-1a69-435b-f082-0b2239dc2b78"
      },
      "execution_count": null,
      "outputs": [
        {
          "output_type": "execute_result",
          "data": {
            "text/plain": [
              "torch.float32"
            ]
          },
          "metadata": {},
          "execution_count": 15
        }
      ]
    },
    {
      "cell_type": "code",
      "source": [
        "#create range of tensors \n",
        "#torch.range\n",
        "one_to_ten = torch.arange(0,11)\n",
        "#to specify the step :\n",
        "one_to_ten_steps = torch.arange(start = 0,end = 100,step = 2)\n",
        "one_to_ten_steps"
      ],
      "metadata": {
        "colab": {
          "base_uri": "https://localhost:8080/"
        },
        "id": "rbaLyGnwhcHC",
        "outputId": "bf6b3b4c-c981-4bab-a0a8-ebf3a13d796a"
      },
      "execution_count": null,
      "outputs": [
        {
          "output_type": "execute_result",
          "data": {
            "text/plain": [
              "tensor([ 0,  2,  4,  6,  8, 10, 12, 14, 16, 18, 20, 22, 24, 26, 28, 30, 32, 34,\n",
              "        36, 38, 40, 42, 44, 46, 48, 50, 52, 54, 56, 58, 60, 62, 64, 66, 68, 70,\n",
              "        72, 74, 76, 78, 80, 82, 84, 86, 88, 90, 92, 94, 96, 98])"
            ]
          },
          "metadata": {},
          "execution_count": 21
        }
      ]
    },
    {
      "cell_type": "code",
      "source": [
        "#tensors like the shape of another tensor\n",
        "ten_zeros = torch.zeros_like(input= one_to_ten)\n",
        "ten_zeros"
      ],
      "metadata": {
        "colab": {
          "base_uri": "https://localhost:8080/"
        },
        "id": "itRur6ssr_Qf",
        "outputId": "bc0f0205-78e8-4359-ea5e-22ca97d1d9af"
      },
      "execution_count": null,
      "outputs": [
        {
          "output_type": "execute_result",
          "data": {
            "text/plain": [
              "tensor([0, 0, 0, 0, 0, 0, 0, 0, 0, 0, 0])"
            ]
          },
          "metadata": {},
          "execution_count": 23
        }
      ]
    },
    {
      "cell_type": "code",
      "source": [
        "#float 32 tensor\n",
        "float_32_tensor = torch.tensor([3.0,6.0,9.0]\n",
        "                               ,dtype=None #what data type of tensor  \n",
        "                               ,device=\"cpu\" #what device your tensor on\n",
        "                               ,requires_grad=False #whether or not track gradients with this tensors operations\n",
        "                               ) "
      ],
      "metadata": {
        "id": "NHAjWMJX3Dkv"
      },
      "execution_count": null,
      "outputs": []
    },
    {
      "cell_type": "code",
      "source": [
        "float_16_tensor = float_32_tensor.type(torch.float16)\n",
        "float_16_tensor"
      ],
      "metadata": {
        "colab": {
          "base_uri": "https://localhost:8080/"
        },
        "id": "XlGxQosO5Duz",
        "outputId": "bd704be5-09d7-4a53-e6ca-4cb9c0e59653"
      },
      "execution_count": null,
      "outputs": [
        {
          "output_type": "execute_result",
          "data": {
            "text/plain": [
              "tensor([3., 6., 9.], device='cuda:0', dtype=torch.float16)"
            ]
          },
          "metadata": {},
          "execution_count": 26
        }
      ]
    },
    {
      "cell_type": "code",
      "source": [
        "float_16_tensor * float_32_tensor"
      ],
      "metadata": {
        "colab": {
          "base_uri": "https://localhost:8080/"
        },
        "id": "tlMIVdiF5zsq",
        "outputId": "79ffacb6-5661-4451-b6b3-c009147e9870"
      },
      "execution_count": null,
      "outputs": [
        {
          "output_type": "execute_result",
          "data": {
            "text/plain": [
              "tensor([ 9., 36., 81.], device='cuda:0')"
            ]
          },
          "metadata": {},
          "execution_count": 27
        }
      ]
    },
    {
      "cell_type": "code",
      "source": [
        "int_32_tensor = torch.tensor([3,6,9],dtype = torch.int32)\n",
        "int_32_tensor"
      ],
      "metadata": {
        "colab": {
          "base_uri": "https://localhost:8080/"
        },
        "id": "H0E7SoCO6e5S",
        "outputId": "6209a0a7-b2bc-439c-a55f-96d5d4910961"
      },
      "execution_count": null,
      "outputs": [
        {
          "output_type": "execute_result",
          "data": {
            "text/plain": [
              "tensor([3, 6, 9], dtype=torch.int32)"
            ]
          },
          "metadata": {},
          "execution_count": 30
        }
      ]
    },
    {
      "cell_type": "code",
      "source": [
        "float_32_tensor * int_32_tensor"
      ],
      "metadata": {
        "colab": {
          "base_uri": "https://localhost:8080/"
        },
        "id": "Cvg0xBxA6sqi",
        "outputId": "11140f41-caf4-48d2-ccd9-c807fa3c8ee7"
      },
      "execution_count": null,
      "outputs": [
        {
          "output_type": "execute_result",
          "data": {
            "text/plain": [
              "tensor([ 9., 36., 81.])"
            ]
          },
          "metadata": {},
          "execution_count": 33
        }
      ]
    },
    {
      "cell_type": "code",
      "source": [
        "#getting information from tensors \n",
        "#how to check shape , data type, device \n",
        "#1- datatype tensor.dtype\n",
        "#2- shape tensor.shape\n",
        "#3-device tensor.device"
      ],
      "metadata": {
        "id": "I8cCxRYJ7KuQ"
      },
      "execution_count": null,
      "outputs": []
    },
    {
      "cell_type": "code",
      "source": [
        "#creating a tensor \n",
        "some_tensor = torch.rand(3,4)\n",
        "some_tensor"
      ],
      "metadata": {
        "colab": {
          "base_uri": "https://localhost:8080/"
        },
        "id": "zSiNZDdG8AiI",
        "outputId": "2897bf7f-d4dc-4d3f-d27f-ba597893eadc"
      },
      "execution_count": null,
      "outputs": [
        {
          "output_type": "execute_result",
          "data": {
            "text/plain": [
              "tensor([[0.0342, 0.0649, 0.2046, 0.5666],\n",
              "        [0.0606, 0.0161, 0.9282, 0.5751],\n",
              "        [0.9412, 0.4827, 0.0903, 0.2480]])"
            ]
          },
          "metadata": {},
          "execution_count": 35
        }
      ]
    },
    {
      "cell_type": "code",
      "source": [
        "#details about tensor\n",
        "print(some_tensor)\n",
        "print(f\"data type of tensor :{some_tensor.dtype}\")\n",
        "print(f\"shape of tensor :{some_tensor.shape}\")\n",
        "print(f\"device of tensor :{some_tensor.device}\")"
      ],
      "metadata": {
        "colab": {
          "base_uri": "https://localhost:8080/"
        },
        "id": "pkoTy72i8Kcn",
        "outputId": "0e13f3de-e77a-499e-8084-c0fd31950044"
      },
      "execution_count": null,
      "outputs": [
        {
          "output_type": "stream",
          "name": "stdout",
          "text": [
            "tensor([[0.0342, 0.0649, 0.2046, 0.5666],\n",
            "        [0.0606, 0.0161, 0.9282, 0.5751],\n",
            "        [0.9412, 0.4827, 0.0903, 0.2480]])\n",
            "data type of tensor :torch.float32\n",
            "shape of tensor :torch.Size([3, 4])\n",
            "device of tensor :cpu\n"
          ]
        }
      ]
    },
    {
      "cell_type": "markdown",
      "source": [
        "manipulating tensors ( tensor operations) \n"
      ],
      "metadata": {
        "id": "8jniL1J_DXet"
      }
    },
    {
      "cell_type": "markdown",
      "source": [
        "tensor operations\n",
        "* addition \n",
        "* substraction\n",
        "* multiplication\n",
        "* division\n",
        "* matrix multiplication"
      ],
      "metadata": {
        "id": "oIaNMrS2EECS"
      }
    },
    {
      "cell_type": "code",
      "source": [
        "#creating a tensor \n",
        "tensor = torch.tensor([1,2,3])\n",
        "tensor + 10"
      ],
      "metadata": {
        "colab": {
          "base_uri": "https://localhost:8080/"
        },
        "id": "m9eSNsE3DdF_",
        "outputId": "27d93097-55f3-45b7-c8cb-1cc24fcb4974"
      },
      "execution_count": null,
      "outputs": [
        {
          "output_type": "execute_result",
          "data": {
            "text/plain": [
              "tensor([11, 12, 13])"
            ]
          },
          "metadata": {},
          "execution_count": 38
        }
      ]
    },
    {
      "cell_type": "code",
      "source": [
        "#multiply tensor by 10\n",
        "tensor * 10 \n"
      ],
      "metadata": {
        "colab": {
          "base_uri": "https://localhost:8080/"
        },
        "id": "JBVmFeGLFNox",
        "outputId": "80e520d4-fcf1-4922-9d73-0a392d9c03e9"
      },
      "execution_count": null,
      "outputs": [
        {
          "output_type": "execute_result",
          "data": {
            "text/plain": [
              "tensor([10, 20, 30])"
            ]
          },
          "metadata": {},
          "execution_count": 45
        }
      ]
    },
    {
      "cell_type": "code",
      "source": [
        "#substract 10 \n",
        "tensor - 10"
      ],
      "metadata": {
        "colab": {
          "base_uri": "https://localhost:8080/"
        },
        "id": "wE-hH_JfFeiG",
        "outputId": "28376a23-0b6a-4a35-f319-c3715ca4773f"
      },
      "execution_count": null,
      "outputs": [
        {
          "output_type": "execute_result",
          "data": {
            "text/plain": [
              "tensor([-9, -8, -7])"
            ]
          },
          "metadata": {},
          "execution_count": 46
        }
      ]
    },
    {
      "cell_type": "code",
      "source": [
        "#pytorch bulit in functions\n",
        "torch.mul(tensor , 10)"
      ],
      "metadata": {
        "colab": {
          "base_uri": "https://localhost:8080/"
        },
        "id": "4n6CcEM5FqbG",
        "outputId": "6c99efdc-eb08-4037-d0de-1f7a296370f4"
      },
      "execution_count": null,
      "outputs": [
        {
          "output_type": "execute_result",
          "data": {
            "text/plain": [
              "tensor([10, 20, 30])"
            ]
          },
          "metadata": {},
          "execution_count": 47
        }
      ]
    },
    {
      "cell_type": "code",
      "source": [
        "torch.add(tensor,10)"
      ],
      "metadata": {
        "colab": {
          "base_uri": "https://localhost:8080/"
        },
        "id": "1k_qruq7GHDN",
        "outputId": "01e8287e-291e-4c4f-b2a8-4b0480dc3426"
      },
      "execution_count": null,
      "outputs": [
        {
          "output_type": "execute_result",
          "data": {
            "text/plain": [
              "tensor([11, 12, 13])"
            ]
          },
          "metadata": {},
          "execution_count": 48
        }
      ]
    },
    {
      "cell_type": "code",
      "source": [
        "#matrix multiplication \n",
        "#two ways to perform multiplication in neural network and deeplearning : \n",
        "#1- element-wise multiplication\n",
        "#2-matrix multiplication"
      ],
      "metadata": {
        "id": "LdWZ-hEwHvXJ"
      },
      "execution_count": null,
      "outputs": []
    },
    {
      "cell_type": "code",
      "source": [
        "#element wise multiplication\n",
        "print(tensor, '*' ,tensor)\n",
        "print(f\"Equals : {tensor * tensor}\")"
      ],
      "metadata": {
        "colab": {
          "base_uri": "https://localhost:8080/"
        },
        "id": "6HKu8R27KEBE",
        "outputId": "69395dd8-9c46-4f01-c930-8f3d8d733bdc"
      },
      "execution_count": null,
      "outputs": [
        {
          "output_type": "stream",
          "name": "stdout",
          "text": [
            "tensor([1, 2, 3]) * tensor([1, 2, 3])\n",
            "Equals : tensor([1, 4, 9])\n"
          ]
        }
      ]
    },
    {
      "cell_type": "code",
      "source": [
        "#matrix multiplication\n",
        "torch.matmul(tensor,tensor)"
      ],
      "metadata": {
        "colab": {
          "base_uri": "https://localhost:8080/"
        },
        "id": "cKihS9o_KbiM",
        "outputId": "a4083fab-3ee0-4016-af53-90dcda7bceb7"
      },
      "execution_count": null,
      "outputs": [
        {
          "output_type": "execute_result",
          "data": {
            "text/plain": [
              "tensor(14)"
            ]
          },
          "metadata": {},
          "execution_count": 51
        }
      ]
    },
    {
      "cell_type": "code",
      "source": [
        "#one most common error is shape error\n",
        "#rules to do matrix multiplication \n",
        "#1- the inne dimension must match (3,2) * (2,6) work (3,2)* (3,2) not work (3,2) * (2,3) work\n",
        "#2- the result of the matrix has shape of the outer dimension\n",
        "#torch.matmul(torch.rand(3,2) , torch.rand(3,2)) error\n",
        "torch.matmul(torch.rand(3,2) , torch.rand(2,3)) # ->3,3 the out dimension"
      ],
      "metadata": {
        "colab": {
          "base_uri": "https://localhost:8080/"
        },
        "id": "sQOG_l4tNG5B",
        "outputId": "de64f528-828e-4b3a-90e5-85100eba6a35"
      },
      "execution_count": null,
      "outputs": [
        {
          "output_type": "execute_result",
          "data": {
            "text/plain": [
              "tensor([[0.7624, 0.7373, 0.1813],\n",
              "        [1.1919, 1.0199, 0.5796],\n",
              "        [1.2748, 1.1126, 0.5713]])"
            ]
          },
          "metadata": {},
          "execution_count": 53
        }
      ]
    },
    {
      "cell_type": "markdown",
      "source": [
        "finding the min max mean sum for tensor **bold text**"
      ],
      "metadata": {
        "id": "tHvghKUjNt5P"
      }
    },
    {
      "cell_type": "code",
      "source": [
        "x = torch.arange (0,100,10)\n",
        "x"
      ],
      "metadata": {
        "colab": {
          "base_uri": "https://localhost:8080/"
        },
        "id": "lgvVUwxzNoar",
        "outputId": "9c1032d7-2830-4d3d-c264-2b05ae5b0b55"
      },
      "execution_count": null,
      "outputs": [
        {
          "output_type": "execute_result",
          "data": {
            "text/plain": [
              "tensor([ 0, 10, 20, 30, 40, 50, 60, 70, 80, 90])"
            ]
          },
          "metadata": {},
          "execution_count": 4
        }
      ]
    },
    {
      "cell_type": "code",
      "source": [
        "torch.min(x),x.max()"
      ],
      "metadata": {
        "colab": {
          "base_uri": "https://localhost:8080/"
        },
        "id": "3hpAvccjOCx3",
        "outputId": "f7b63f65-7d32-4433-ffca-e251ccafee0f"
      },
      "execution_count": null,
      "outputs": [
        {
          "output_type": "execute_result",
          "data": {
            "text/plain": [
              "(tensor(0), tensor(90))"
            ]
          },
          "metadata": {},
          "execution_count": 6
        }
      ]
    },
    {
      "cell_type": "code",
      "source": [
        "#find the max \n",
        "torch.max(x) , x.max()"
      ],
      "metadata": {
        "colab": {
          "base_uri": "https://localhost:8080/"
        },
        "id": "sfdpqGUoOW_K",
        "outputId": "cd5961c5-6b40-4895-e277-6aac3f8e5b91"
      },
      "execution_count": null,
      "outputs": [
        {
          "output_type": "execute_result",
          "data": {
            "text/plain": [
              "(tensor(90), tensor(90))"
            ]
          },
          "metadata": {},
          "execution_count": 7
        }
      ]
    },
    {
      "cell_type": "code",
      "source": [
        "#find mean require float 32 to work\n",
        "torch.mean(x.type(torch.float32)) , x.type(torch.float32).mean()"
      ],
      "metadata": {
        "colab": {
          "base_uri": "https://localhost:8080/"
        },
        "id": "5duIYsNhObwe",
        "outputId": "b02666a3-75c9-4c03-e3b8-395e885cf5b6"
      },
      "execution_count": null,
      "outputs": [
        {
          "output_type": "execute_result",
          "data": {
            "text/plain": [
              "(tensor(45.), tensor(45.))"
            ]
          },
          "metadata": {},
          "execution_count": 11
        }
      ]
    },
    {
      "cell_type": "code",
      "source": [
        "#find the sum \n",
        "torch.sum(x) , x.sum()"
      ],
      "metadata": {
        "colab": {
          "base_uri": "https://localhost:8080/"
        },
        "id": "SX4NEwBZOfy2",
        "outputId": "19cc3551-bdec-422d-a3da-c4caf02a8d35"
      },
      "execution_count": null,
      "outputs": [
        {
          "output_type": "execute_result",
          "data": {
            "text/plain": [
              "(tensor(450), tensor(450))"
            ]
          },
          "metadata": {},
          "execution_count": 12
        }
      ]
    },
    {
      "cell_type": "code",
      "source": [
        "#24 find the positional min and max of tensor\n",
        "x.argmin() #this return the position of minimum argument in tensor"
      ],
      "metadata": {
        "colab": {
          "base_uri": "https://localhost:8080/"
        },
        "id": "sfkaw07BPju9",
        "outputId": "dbe78e63-4e4c-4d88-dcbc-5773844a09a5"
      },
      "execution_count": null,
      "outputs": [
        {
          "output_type": "execute_result",
          "data": {
            "text/plain": [
              "tensor(0)"
            ]
          },
          "metadata": {},
          "execution_count": 5
        }
      ]
    },
    {
      "cell_type": "code",
      "source": [
        "x[0] #this return the min argument"
      ],
      "metadata": {
        "colab": {
          "base_uri": "https://localhost:8080/"
        },
        "id": "4zcrOvc3CxO3",
        "outputId": "43c57f8e-7d73-4da0-e77f-f44d750f60b8"
      },
      "execution_count": null,
      "outputs": [
        {
          "output_type": "execute_result",
          "data": {
            "text/plain": [
              "tensor(0)"
            ]
          },
          "metadata": {},
          "execution_count": 7
        }
      ]
    },
    {
      "cell_type": "code",
      "source": [
        "#find position in tensor that has the maximum value with argmax()\n",
        "x.argmax()"
      ],
      "metadata": {
        "colab": {
          "base_uri": "https://localhost:8080/"
        },
        "id": "JiR6LeB5GgaA",
        "outputId": "03b20e01-f9cf-45d5-9c02-3b330c6ae3fe"
      },
      "execution_count": null,
      "outputs": [
        {
          "output_type": "execute_result",
          "data": {
            "text/plain": [
              "tensor(9)"
            ]
          },
          "metadata": {},
          "execution_count": 8
        }
      ]
    },
    {
      "cell_type": "code",
      "source": [
        "x[x.argmax()]"
      ],
      "metadata": {
        "colab": {
          "base_uri": "https://localhost:8080/"
        },
        "id": "zkiEBRbyGqya",
        "outputId": "fc8b3748-0fc8-488a-bc40-2a44f5a33dcd"
      },
      "execution_count": null,
      "outputs": [
        {
          "output_type": "execute_result",
          "data": {
            "text/plain": [
              "tensor(90)"
            ]
          },
          "metadata": {},
          "execution_count": 9
        }
      ]
    },
    {
      "cell_type": "markdown",
      "source": [
        "reshaping , stacking, squeezing and unsqueezing tesnor\n",
        "1-\n",
        "\n",
        "1. reshaping reshape an input tensor to a defined shape \n",
        "2. view return a view of an input tensor of certain shape but keep the same \n",
        "3. stacking combine multiple tensor on top of each others\n",
        "4. squeez remove all '1' dimension from a tensor\n",
        "5. unsqueez add a '1' dimension to a target tensor\n",
        "6. permute return a view of the input with dimensions permuted (swapped)"
      ],
      "metadata": {
        "id": "HYfFjDgkIUx2"
      }
    },
    {
      "cell_type": "code",
      "source": [
        "import torch \n",
        "\n",
        "x = torch.arange(1,10)\n",
        "x , x.shape"
      ],
      "metadata": {
        "colab": {
          "base_uri": "https://localhost:8080/"
        },
        "id": "x3iMHIqBGt1y",
        "outputId": "e2d331e0-16fa-427e-f849-7bbc6b6d67bf"
      },
      "execution_count": null,
      "outputs": [
        {
          "output_type": "execute_result",
          "data": {
            "text/plain": [
              "(tensor([1, 2, 3, 4, 5, 6, 7, 8, 9]), torch.Size([9]))"
            ]
          },
          "metadata": {},
          "execution_count": 19
        }
      ]
    },
    {
      "cell_type": "code",
      "source": [
        "#add extra dimension \n",
        "\n",
        "x_reshaped = x.reshape(9,1) #the new shape multiply should be equal to the original size like 10 could be reshaped to 2 , 5 or 5,2 or 1 , 9 or 9,1\n",
        "x_reshaped ,x_reshaped.shape"
      ],
      "metadata": {
        "colab": {
          "base_uri": "https://localhost:8080/"
        },
        "id": "eedd2xfkJtTw",
        "outputId": "c60e4c79-2e36-45eb-ae71-05bea1bf32be"
      },
      "execution_count": null,
      "outputs": [
        {
          "output_type": "execute_result",
          "data": {
            "text/plain": [
              "(tensor([[1],\n",
              "         [2],\n",
              "         [3],\n",
              "         [4],\n",
              "         [5],\n",
              "         [6],\n",
              "         [7],\n",
              "         [8],\n",
              "         [9]]), torch.Size([9, 1]))"
            ]
          },
          "metadata": {},
          "execution_count": 20
        }
      ]
    },
    {
      "cell_type": "code",
      "source": [
        "#change the view \n",
        "z = x.view(1,9)\n",
        "z , z.shape\n"
      ],
      "metadata": {
        "colab": {
          "base_uri": "https://localhost:8080/"
        },
        "id": "sE2XWNjCJ-4m",
        "outputId": "c2f1016b-0209-4281-f3b6-658a5b717bc9"
      },
      "execution_count": null,
      "outputs": [
        {
          "output_type": "execute_result",
          "data": {
            "text/plain": [
              "(tensor([[1, 2, 3, 4, 5, 6, 7, 8, 9]]), torch.Size([1, 9]))"
            ]
          },
          "metadata": {},
          "execution_count": 21
        }
      ]
    },
    {
      "cell_type": "code",
      "source": [
        "#changing z changes x because view of tensor shares the same memory as the original input \n",
        "z[:,0]=5\n",
        "z,x"
      ],
      "metadata": {
        "colab": {
          "base_uri": "https://localhost:8080/"
        },
        "id": "ZY8kSUBdLEPF",
        "outputId": "0799aa0e-1961-464c-b195-131db8394ba6"
      },
      "execution_count": null,
      "outputs": [
        {
          "output_type": "execute_result",
          "data": {
            "text/plain": [
              "(tensor([[5, 2, 3, 4, 5, 6, 7, 8, 9]]), tensor([5, 2, 3, 4, 5, 6, 7, 8, 9]))"
            ]
          },
          "metadata": {},
          "execution_count": 22
        }
      ]
    },
    {
      "cell_type": "code",
      "source": [
        "#stack tensor on top of each others \n",
        "x_stacked = torch.stack([x,x,x,x] , dim = 1 )\n",
        "x_stacked"
      ],
      "metadata": {
        "colab": {
          "base_uri": "https://localhost:8080/"
        },
        "id": "x1VEX8oCMKGV",
        "outputId": "eddec902-8dea-4be8-f9c1-9f581226f49c"
      },
      "execution_count": null,
      "outputs": [
        {
          "output_type": "execute_result",
          "data": {
            "text/plain": [
              "tensor([[5, 5, 5, 5],\n",
              "        [2, 2, 2, 2],\n",
              "        [3, 3, 3, 3],\n",
              "        [4, 4, 4, 4],\n",
              "        [5, 5, 5, 5],\n",
              "        [6, 6, 6, 6],\n",
              "        [7, 7, 7, 7],\n",
              "        [8, 8, 8, 8],\n",
              "        [9, 9, 9, 9]])"
            ]
          },
          "metadata": {},
          "execution_count": 30
        }
      ]
    },
    {
      "cell_type": "code",
      "source": [
        "#squeez and unsqueez \n",
        "#remove all single dimensions from a target tensor\n",
        "x_reshaped\n"
      ],
      "metadata": {
        "colab": {
          "base_uri": "https://localhost:8080/"
        },
        "id": "iQ9ReGxhNHOD",
        "outputId": "12ea8736-80a6-4b39-bffb-75ccb2ef01a5"
      },
      "execution_count": null,
      "outputs": [
        {
          "output_type": "execute_result",
          "data": {
            "text/plain": [
              "tensor([[5],\n",
              "        [2],\n",
              "        [3],\n",
              "        [4],\n",
              "        [5],\n",
              "        [6],\n",
              "        [7],\n",
              "        [8],\n",
              "        [9]])"
            ]
          },
          "metadata": {},
          "execution_count": 33
        }
      ]
    },
    {
      "cell_type": "code",
      "source": [
        "x_reshaped.shape\n"
      ],
      "metadata": {
        "colab": {
          "base_uri": "https://localhost:8080/"
        },
        "id": "fpdyVUMCORAK",
        "outputId": "c94a7599-bc61-4937-9b72-58dfcf7a3abc"
      },
      "execution_count": null,
      "outputs": [
        {
          "output_type": "execute_result",
          "data": {
            "text/plain": [
              "torch.Size([9, 1])"
            ]
          },
          "metadata": {},
          "execution_count": 34
        }
      ]
    },
    {
      "cell_type": "code",
      "source": [
        "x_reshaped.squeeze().shape"
      ],
      "metadata": {
        "colab": {
          "base_uri": "https://localhost:8080/"
        },
        "id": "OzHgji2cOUCz",
        "outputId": "19bd02f1-ecac-4904-cc16-f941beb71c93"
      },
      "execution_count": null,
      "outputs": [
        {
          "output_type": "execute_result",
          "data": {
            "text/plain": [
              "torch.Size([9])"
            ]
          },
          "metadata": {},
          "execution_count": 38
        }
      ]
    },
    {
      "cell_type": "code",
      "source": [
        "x_reshaped.squeeze()"
      ],
      "metadata": {
        "colab": {
          "base_uri": "https://localhost:8080/"
        },
        "id": "Zw1BJVTVOfGP",
        "outputId": "9bf26f99-2083-4684-82b6-a3c0403870b1"
      },
      "execution_count": null,
      "outputs": [
        {
          "output_type": "execute_result",
          "data": {
            "text/plain": [
              "tensor([5, 2, 3, 4, 5, 6, 7, 8, 9])"
            ]
          },
          "metadata": {},
          "execution_count": 39
        }
      ]
    },
    {
      "cell_type": "code",
      "source": [
        "x_reshaped"
      ],
      "metadata": {
        "colab": {
          "base_uri": "https://localhost:8080/"
        },
        "id": "Yrzd_PPqOVI9",
        "outputId": "363fddad-82e0-4ea4-f971-745b61336204"
      },
      "execution_count": null,
      "outputs": [
        {
          "output_type": "execute_result",
          "data": {
            "text/plain": [
              "tensor([[5],\n",
              "        [2],\n",
              "        [3],\n",
              "        [4],\n",
              "        [5],\n",
              "        [6],\n",
              "        [7],\n",
              "        [8],\n",
              "        [9]])"
            ]
          },
          "metadata": {},
          "execution_count": 40
        }
      ]
    },
    {
      "cell_type": "code",
      "source": [
        "#selecting indexs \n",
        "import torch \n",
        "x = torch.arange(1,10).reshape(1,3,3)\n",
        "x , x.shape"
      ],
      "metadata": {
        "id": "Y4XdASUrOZBi",
        "colab": {
          "base_uri": "https://localhost:8080/"
        },
        "outputId": "b53f668c-a155-4c7f-a488-b3cfeabe47c3"
      },
      "execution_count": null,
      "outputs": [
        {
          "output_type": "execute_result",
          "data": {
            "text/plain": [
              "(tensor([[[1, 2, 3],\n",
              "          [4, 5, 6],\n",
              "          [7, 8, 9]]]), torch.Size([1, 3, 3]))"
            ]
          },
          "metadata": {},
          "execution_count": 6
        }
      ]
    },
    {
      "cell_type": "code",
      "source": [],
      "metadata": {
        "colab": {
          "base_uri": "https://localhost:8080/"
        },
        "id": "qSnyq4bmLGcR",
        "outputId": "57911f3e-0300-488e-a0c0-4a1074506a5f"
      },
      "execution_count": null,
      "outputs": [
        {
          "output_type": "stream",
          "name": "stdout",
          "text": [
            "tensor([[[1, 2, 3],\n",
            "         [4, 5, 6],\n",
            "         [7, 8, 9]]])\n"
          ]
        }
      ]
    },
    {
      "cell_type": "code",
      "source": [
        "x[0]"
      ],
      "metadata": {
        "colab": {
          "base_uri": "https://localhost:8080/"
        },
        "id": "z3UO95tOLOXo",
        "outputId": "8edd8862-c70e-4792-a8df-0a17cb0d8309"
      },
      "execution_count": null,
      "outputs": [
        {
          "output_type": "execute_result",
          "data": {
            "text/plain": [
              "tensor([[1, 2, 3],\n",
              "        [4, 5, 6],\n",
              "        [7, 8, 9]])"
            ]
          },
          "metadata": {},
          "execution_count": 7
        }
      ]
    },
    {
      "cell_type": "code",
      "source": [
        "#index on middle bracket \n",
        "x[0][0]"
      ],
      "metadata": {
        "colab": {
          "base_uri": "https://localhost:8080/"
        },
        "id": "c14-1fF9NB82",
        "outputId": "9690a247-384c-46f5-84ae-8d56c9cfeb0d"
      },
      "execution_count": null,
      "outputs": [
        {
          "output_type": "execute_result",
          "data": {
            "text/plain": [
              "tensor([1, 2, 3])"
            ]
          },
          "metadata": {},
          "execution_count": 8
        }
      ]
    },
    {
      "cell_type": "code",
      "source": [
        "x[0][0][2]"
      ],
      "metadata": {
        "colab": {
          "base_uri": "https://localhost:8080/"
        },
        "id": "T1WiHz_mNIIN",
        "outputId": "a16cabe4-4463-47ab-9472-1d16a4baacd5"
      },
      "execution_count": null,
      "outputs": [
        {
          "output_type": "execute_result",
          "data": {
            "text/plain": [
              "tensor(3)"
            ]
          },
          "metadata": {},
          "execution_count": 10
        }
      ]
    },
    {
      "cell_type": "code",
      "source": [
        "#: to select all the target dimension\n",
        "x[:,0]"
      ],
      "metadata": {
        "colab": {
          "base_uri": "https://localhost:8080/"
        },
        "id": "X5USwA4-NLXW",
        "outputId": "c7a1ff85-f295-4eed-fb20-d18b25ca11d5"
      },
      "execution_count": null,
      "outputs": [
        {
          "output_type": "execute_result",
          "data": {
            "text/plain": [
              "tensor([[1, 2, 3]])"
            ]
          },
          "metadata": {},
          "execution_count": 11
        }
      ]
    },
    {
      "cell_type": "code",
      "source": [
        "x[:,:,1]"
      ],
      "metadata": {
        "colab": {
          "base_uri": "https://localhost:8080/"
        },
        "id": "nkx3IbM1Ph15",
        "outputId": "6145c0e3-f88f-44ea-ac06-4a3dcc380f4a"
      },
      "execution_count": null,
      "outputs": [
        {
          "output_type": "execute_result",
          "data": {
            "text/plain": [
              "tensor([[2, 5, 8]])"
            ]
          },
          "metadata": {},
          "execution_count": 12
        }
      ]
    },
    {
      "cell_type": "markdown",
      "source": [
        "pytorch has functionality to interact with numpy.\n",
        "\n",
        "\n",
        "*   Data in numpy want in pytorch tensor -> torch.from_numpy(ndarray)\n",
        "*   pytorch tensor ->numpy -> torch.tensor.numpy()\n",
        "\n"
      ],
      "metadata": {
        "id": "6SeYOIquRAoa"
      }
    },
    {
      "cell_type": "code",
      "source": [
        "#pytorch and numpy \n",
        "#numpy array to tensor \n",
        "import torch \n",
        "import numpy as np\n",
        "array = np.arange(1.0,8.0) # the deafult numpy type is float 64 \n",
        "# tensor = torch.from_numpy(array)\n",
        "#to change th numpy to float 32\n",
        "tensor = torch.from_numpy(array).type(torch.float32) #warning when converting from numpy to tensor reflects numpy deafult datatype of float 64 unless specifies the another type\n",
        "\n",
        "array , tensor "
      ],
      "metadata": {
        "colab": {
          "base_uri": "https://localhost:8080/"
        },
        "id": "zAK3G5kEPj8M",
        "outputId": "831a1803-096c-463c-de76-0ea1ece9b439"
      },
      "execution_count": null,
      "outputs": [
        {
          "output_type": "execute_result",
          "data": {
            "text/plain": [
              "(array([1., 2., 3., 4., 5., 6., 7.]), tensor([1., 2., 3., 4., 5., 6., 7.]))"
            ]
          },
          "metadata": {},
          "execution_count": 15
        }
      ]
    },
    {
      "cell_type": "code",
      "source": [
        "array.dtype , tensor.dtype"
      ],
      "metadata": {
        "colab": {
          "base_uri": "https://localhost:8080/"
        },
        "id": "9E9JD5lgSA44",
        "outputId": "f5657aa5-93eb-4687-899c-e412922d158f"
      },
      "execution_count": null,
      "outputs": [
        {
          "output_type": "execute_result",
          "data": {
            "text/plain": [
              "(dtype('float64'), torch.float32)"
            ]
          },
          "metadata": {},
          "execution_count": 17
        }
      ]
    },
    {
      "cell_type": "code",
      "source": [
        "#change value of array what will do to tensor ? \n",
        "array = array+1\n",
        "array , tensor #the tensor values dont change if we change the value of the array "
      ],
      "metadata": {
        "colab": {
          "base_uri": "https://localhost:8080/"
        },
        "id": "TNtUvaCYSDM4",
        "outputId": "73eeae02-c6b9-48a7-849f-057a2a1be6cf"
      },
      "execution_count": null,
      "outputs": [
        {
          "output_type": "execute_result",
          "data": {
            "text/plain": [
              "(array([2., 3., 4., 5., 6., 7., 8.]), tensor([1., 2., 3., 4., 5., 6., 7.]))"
            ]
          },
          "metadata": {},
          "execution_count": 18
        }
      ]
    },
    {
      "cell_type": "code",
      "source": [
        "#tensor to numpy array \n",
        "tensor = torch.ones(7) #pytorch tensor deafult dtype is 32 \n",
        "numpy_tensor = tensor.numpy()\n",
        "tensor , numpy_tensor "
      ],
      "metadata": {
        "colab": {
          "base_uri": "https://localhost:8080/"
        },
        "id": "O9g6o3zBTgdt",
        "outputId": "7cdf62da-c0f6-42af-c19f-0e46f0c4cf28"
      },
      "execution_count": null,
      "outputs": [
        {
          "output_type": "execute_result",
          "data": {
            "text/plain": [
              "(tensor([1., 1., 1., 1., 1., 1., 1.]),\n",
              " array([1., 1., 1., 1., 1., 1., 1.], dtype=float32))"
            ]
          },
          "metadata": {},
          "execution_count": 19
        }
      ]
    },
    {
      "cell_type": "code",
      "source": [
        "#change the tensor what happens to numpy \n",
        "tensor = tensor+1 \n",
        "tensor , numpy_tensor"
      ],
      "metadata": {
        "colab": {
          "base_uri": "https://localhost:8080/"
        },
        "id": "upJ6wROpT4px",
        "outputId": "855c0021-5fa8-4a0f-913c-c19a094ea1fd"
      },
      "execution_count": null,
      "outputs": [
        {
          "output_type": "execute_result",
          "data": {
            "text/plain": [
              "(tensor([2., 2., 2., 2., 2., 2., 2.]),\n",
              " array([1., 1., 1., 1., 1., 1., 1.], dtype=float32))"
            ]
          },
          "metadata": {},
          "execution_count": 20
        }
      ]
    },
    {
      "cell_type": "markdown",
      "source": [
        "# Reproducability \n",
        "# trying to take random out of random "
      ],
      "metadata": {
        "id": "n_JIKG8Ss8sh"
      }
    },
    {
      "cell_type": "markdown",
      "source": [
        "#neural network learns :\n",
        "# start with random numbers -> tensor operations -> update random numbers to try and make them better representation of the data\n",
        "# to reduce the randomness in neural networks in pytorch comes the conpcept of a **random seed**\n",
        "\n",
        "what a random seed does is flavour the randomness."
      ],
      "metadata": {
        "id": "2A5RWLeWtKrs"
      }
    },
    {
      "cell_type": "code",
      "source": [
        "import torch\n",
        "\n",
        "random_tensor_A =  torch.rand(3,4)\n",
        "random_tensor_B =  torch.rand(3,4)\n",
        "print(random_tensor_A)\n",
        "print(random_tensor_B)\n",
        "print(random_tensor_A == random_tensor_B)"
      ],
      "metadata": {
        "colab": {
          "base_uri": "https://localhost:8080/"
        },
        "id": "8m4QaFGLUPFI",
        "outputId": "c3ac247b-3348-4193-c392-779e110249c1"
      },
      "execution_count": null,
      "outputs": [
        {
          "output_type": "stream",
          "name": "stdout",
          "text": [
            "tensor([[0.7221, 0.5504, 0.7102, 0.4829],\n",
            "        [0.5520, 0.3426, 0.0369, 0.2764],\n",
            "        [0.3702, 0.2608, 0.6793, 0.1133]])\n",
            "tensor([[0.0116, 0.3947, 0.0531, 0.2159],\n",
            "        [0.9531, 0.7274, 0.6671, 0.1482],\n",
            "        [0.7018, 0.1326, 0.9683, 0.0484]])\n",
            "tensor([[False, False, False, False],\n",
            "        [False, False, False, False],\n",
            "        [False, False, False, False]])\n"
          ]
        }
      ]
    },
    {
      "cell_type": "code",
      "source": [
        "import torch\n",
        "#set the random seed \n",
        "RANDOM_SEED = 42\n",
        "torch.manual_seed(RANDOM_SEED)\n",
        "random_tensor_C = torch.rand(3,4)\n",
        "\n",
        "torch.manual_seed(RANDOM_SEED)\n",
        "random_tensor_D = torch.rand(3,4)\n",
        "\n",
        "print(random_tensor_C)\n",
        "print(random_tensor_D)\n",
        "print(random_tensor_C == random_tensor_D)"
      ],
      "metadata": {
        "colab": {
          "base_uri": "https://localhost:8080/"
        },
        "id": "guA26n_5uHCx",
        "outputId": "b6ccb015-e119-4508-8df2-d8a2af82cdff"
      },
      "execution_count": null,
      "outputs": [
        {
          "output_type": "stream",
          "name": "stdout",
          "text": [
            "tensor([[0.8823, 0.9150, 0.3829, 0.9593],\n",
            "        [0.3904, 0.6009, 0.2566, 0.7936],\n",
            "        [0.9408, 0.1332, 0.9346, 0.5936]])\n",
            "tensor([[0.8823, 0.9150, 0.3829, 0.9593],\n",
            "        [0.3904, 0.6009, 0.2566, 0.7936],\n",
            "        [0.9408, 0.1332, 0.9346, 0.5936]])\n",
            "tensor([[True, True, True, True],\n",
            "        [True, True, True, True],\n",
            "        [True, True, True, True]])\n"
          ]
        }
      ]
    },
    {
      "cell_type": "markdown",
      "source": [
        "# GPU accessiability "
      ],
      "metadata": {
        "id": "b39ZXpYTwFt1"
      }
    },
    {
      "cell_type": "code",
      "source": [
        "import torch \n",
        "torch.cuda.is_available()"
      ],
      "metadata": {
        "colab": {
          "base_uri": "https://localhost:8080/"
        },
        "id": "X9A3gUoVvNrw",
        "outputId": "9d8efdd4-2407-45ec-d893-796fa0eb2486"
      },
      "execution_count": null,
      "outputs": [
        {
          "output_type": "execute_result",
          "data": {
            "text/plain": [
              "True"
            ]
          },
          "metadata": {},
          "execution_count": 6
        }
      ]
    },
    {
      "cell_type": "code",
      "source": [],
      "metadata": {
        "id": "4kfNPy9NySxe"
      },
      "execution_count": null,
      "outputs": []
    }
  ]
}