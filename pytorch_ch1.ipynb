{
  "nbformat": 4,
  "nbformat_minor": 0,
  "metadata": {
    "colab": {
      "provenance": [],
      "include_colab_link": true
    },
    "kernelspec": {
      "name": "python3",
      "display_name": "Python 3"
    },
    "language_info": {
      "name": "python"
    },
    "accelerator": "GPU",
    "gpuClass": "standard"
  },
  "cells": [
    {
      "cell_type": "markdown",
      "metadata": {
        "id": "view-in-github",
        "colab_type": "text"
      },
      "source": [
        "<a href=\"https://colab.research.google.com/github/muradhani/pytorch/blob/main/pytorch_ch1.ipynb\" target=\"_parent\"><img src=\"https://colab.research.google.com/assets/colab-badge.svg\" alt=\"Open In Colab\"/></a>"
      ]
    },
    {
      "cell_type": "markdown",
      "source": [
        "what will covered :\n",
        "1. data prepation\n",
        "2. bulid model \n",
        "3. fitting the model and make prediction \n",
        "4. make predection and evaluate the model\n",
        "5. saving and loading the model \n",
        "6. putting all together \n"
      ],
      "metadata": {
        "id": "-Y77rxhH2Y3d"
      }
    },
    {
      "cell_type": "code",
      "execution_count": null,
      "metadata": {
        "id": "c9qozDT0sSNU"
      },
      "outputs": [],
      "source": [
        "#pytorch workflow \n",
        "import torch \n",
        "from torch import nn #contain all of pytorch buliding blocks for neural networks\n",
        "import matplotlib.pyplot as plt\n"
      ]
    },
    {
      "cell_type": "markdown",
      "source": [
        "# 1. data preparing and loading\n",
        "\n",
        "machine learning is a game of two parts \n",
        "1. get data into numerical representation \n",
        "2. bulid model to learn patterns in that numerical representation "
      ],
      "metadata": {
        "id": "n08YGn7V4UrP"
      }
    },
    {
      "cell_type": "code",
      "source": [
        "#create known parameters\n",
        "weight = 0.7\n",
        "bias = 0.3\n",
        "\n",
        "#create \n",
        "start = 0 \n",
        "end = 1 \n",
        "step = 0.02\n",
        "X = torch.arange(start , end , step).unsqueeze(dim = 1)\n",
        "y = weight * X + bias \n",
        "\n",
        "X[:10] , y[:10]"
      ],
      "metadata": {
        "id": "JyZ5Ki9N4X0V",
        "colab": {
          "base_uri": "https://localhost:8080/"
        },
        "outputId": "ea5fed9e-1973-498a-df09-f989400d7d8e"
      },
      "execution_count": null,
      "outputs": [
        {
          "output_type": "execute_result",
          "data": {
            "text/plain": [
              "(tensor([[0.0000],\n",
              "         [0.0200],\n",
              "         [0.0400],\n",
              "         [0.0600],\n",
              "         [0.0800],\n",
              "         [0.1000],\n",
              "         [0.1200],\n",
              "         [0.1400],\n",
              "         [0.1600],\n",
              "         [0.1800]]), tensor([[0.3000],\n",
              "         [0.3140],\n",
              "         [0.3280],\n",
              "         [0.3420],\n",
              "         [0.3560],\n",
              "         [0.3700],\n",
              "         [0.3840],\n",
              "         [0.3980],\n",
              "         [0.4120],\n",
              "         [0.4260]]))"
            ]
          },
          "metadata": {},
          "execution_count": 2
        }
      ]
    },
    {
      "cell_type": "code",
      "source": [
        "len(X) , len(y)"
      ],
      "metadata": {
        "colab": {
          "base_uri": "https://localhost:8080/"
        },
        "id": "aeSQQruaSyrH",
        "outputId": "63879e55-bac2-4a1b-b946-5b7d28fdcccd"
      },
      "execution_count": null,
      "outputs": [
        {
          "output_type": "execute_result",
          "data": {
            "text/plain": [
              "(50, 50)"
            ]
          },
          "metadata": {},
          "execution_count": 3
        }
      ]
    },
    {
      "cell_type": "markdown",
      "source": [
        "\n",
        "\n",
        "#splitting data into training and test data\n",
        "generalization is the ability for ml learning model to perform well on data it hasnt seen before .\n"
      ],
      "metadata": {
        "id": "FAwJUPmgQ9L5"
      }
    },
    {
      "cell_type": "code",
      "source": [
        "#splitting data into training and test data \n",
        "#create a train test split \n",
        "train_split = int(0.8 * len(X))\n",
        "X_train , y_train = X[:train_split] , y[:train_split]\n",
        "X_test , y_test = X[train_split:] , y[train_split:]\n",
        "\n",
        "len(X_train) , len(y_train) , len(X_test) , len(y_test)"
      ],
      "metadata": {
        "colab": {
          "base_uri": "https://localhost:8080/"
        },
        "id": "9t_KmsLMAxWd",
        "outputId": "e00fce1f-efcf-40f5-ddfa-3932bac349fe"
      },
      "execution_count": null,
      "outputs": [
        {
          "output_type": "execute_result",
          "data": {
            "text/plain": [
              "(40, 40, 10, 10)"
            ]
          },
          "metadata": {},
          "execution_count": 4
        }
      ]
    },
    {
      "cell_type": "code",
      "source": [
        "X_train , y_train"
      ],
      "metadata": {
        "colab": {
          "base_uri": "https://localhost:8080/"
        },
        "id": "tn3YyX56TFPq",
        "outputId": "f2d12943-0a31-4958-9e89-7070c1ccac3e"
      },
      "execution_count": null,
      "outputs": [
        {
          "output_type": "execute_result",
          "data": {
            "text/plain": [
              "(tensor([[0.0000],\n",
              "         [0.0200],\n",
              "         [0.0400],\n",
              "         [0.0600],\n",
              "         [0.0800],\n",
              "         [0.1000],\n",
              "         [0.1200],\n",
              "         [0.1400],\n",
              "         [0.1600],\n",
              "         [0.1800],\n",
              "         [0.2000],\n",
              "         [0.2200],\n",
              "         [0.2400],\n",
              "         [0.2600],\n",
              "         [0.2800],\n",
              "         [0.3000],\n",
              "         [0.3200],\n",
              "         [0.3400],\n",
              "         [0.3600],\n",
              "         [0.3800],\n",
              "         [0.4000],\n",
              "         [0.4200],\n",
              "         [0.4400],\n",
              "         [0.4600],\n",
              "         [0.4800],\n",
              "         [0.5000],\n",
              "         [0.5200],\n",
              "         [0.5400],\n",
              "         [0.5600],\n",
              "         [0.5800],\n",
              "         [0.6000],\n",
              "         [0.6200],\n",
              "         [0.6400],\n",
              "         [0.6600],\n",
              "         [0.6800],\n",
              "         [0.7000],\n",
              "         [0.7200],\n",
              "         [0.7400],\n",
              "         [0.7600],\n",
              "         [0.7800]]), tensor([[0.3000],\n",
              "         [0.3140],\n",
              "         [0.3280],\n",
              "         [0.3420],\n",
              "         [0.3560],\n",
              "         [0.3700],\n",
              "         [0.3840],\n",
              "         [0.3980],\n",
              "         [0.4120],\n",
              "         [0.4260],\n",
              "         [0.4400],\n",
              "         [0.4540],\n",
              "         [0.4680],\n",
              "         [0.4820],\n",
              "         [0.4960],\n",
              "         [0.5100],\n",
              "         [0.5240],\n",
              "         [0.5380],\n",
              "         [0.5520],\n",
              "         [0.5660],\n",
              "         [0.5800],\n",
              "         [0.5940],\n",
              "         [0.6080],\n",
              "         [0.6220],\n",
              "         [0.6360],\n",
              "         [0.6500],\n",
              "         [0.6640],\n",
              "         [0.6780],\n",
              "         [0.6920],\n",
              "         [0.7060],\n",
              "         [0.7200],\n",
              "         [0.7340],\n",
              "         [0.7480],\n",
              "         [0.7620],\n",
              "         [0.7760],\n",
              "         [0.7900],\n",
              "         [0.8040],\n",
              "         [0.8180],\n",
              "         [0.8320],\n",
              "         [0.8460]]))"
            ]
          },
          "metadata": {},
          "execution_count": 5
        }
      ]
    },
    {
      "cell_type": "markdown",
      "source": [
        "#how to better visualize the data "
      ],
      "metadata": {
        "id": "ZlGtgzl7UJdY"
      }
    },
    {
      "cell_type": "code",
      "source": [
        "#visualize function of data \n",
        "def plot_predictions(train_data = X_train,\n",
        "                     train_labels = y_train,\n",
        "                     test_data = X_test,\n",
        "                     test_labels = y_test,\n",
        "                     predictions = None):\n",
        "  plt.figure(figsize=(10,7))\n",
        "  #plot training data in blue\n",
        "  plt.scatter(train_data , train_labels , c=\"b\" , s=4 , label=\"training data\")\n",
        "  \n",
        "  #plot test data in green \n",
        "  plt.scatter(test_data , test_labels,c=\"g\",s=4,label=\"testing data\")\n",
        "\n",
        "  #are there predictions ?\n",
        "  if predictions is not None:\n",
        "    #plot the predictions if they exist\n",
        "    plt.scatter(test_data,predictions,c=\"r\",s=4,label=\"predictions\")\n",
        "  #show the legend\n",
        "  plt.legend(prop={\"size\":14});"
      ],
      "metadata": {
        "id": "KHgTp6w0UCw_"
      },
      "execution_count": null,
      "outputs": []
    },
    {
      "cell_type": "code",
      "source": [
        "plot_predictions()"
      ],
      "metadata": {
        "colab": {
          "base_uri": "https://localhost:8080/",
          "height": 428
        },
        "id": "SHeAHpnUV0Yt",
        "outputId": "7e445894-9557-4e82-c98a-8d823658fc69"
      },
      "execution_count": null,
      "outputs": [
        {
          "output_type": "display_data",
          "data": {
            "text/plain": [
              "<Figure size 720x504 with 1 Axes>"
            ],
            "image/png": "[encoded data removed]"
          },
          "metadata": {
            "needs_background": "light"
          }
        }
      ]
    },
    {
      "cell_type": "markdown",
      "source": [
        "#build first pytorch model \n"
      ],
      "metadata": {
        "id": "5obxhEfeZX3p"
      }
    },
    {
      "cell_type": "code",
      "source": [
        "#create linear regression model class \n",
        "from torch import nn \n",
        "class LinearRegressionModel(nn.Module): #every thing in pytorch inheret from nn.Module\n",
        "  def __init__(self):\n",
        "      super().__init__()\n",
        "      self.weights = nn.Parameter(torch.randn(1,requires_grad=True , dtype=torch.float))\n",
        "      self.bias   = nn.Parameter(torch.randn(1,requires_grad=True , dtype=torch.float))\n",
        "\n",
        "  #forward method to define the computation in the model \n",
        "  def forward(self,x:torch.Tensor)->torch.Tensor: #x is the input data\n",
        "    return self.weights * x + self.bias #this the linear regresion formula"
      ],
      "metadata": {
        "id": "ilYM9zREV8Xt"
      },
      "execution_count": null,
      "outputs": []
    },
    {
      "cell_type": "code",
      "source": [
        "#checking the content of pytorch model \n",
        "#create a random seed\n",
        "torch.manual_seed(42)\n",
        "#create instance of the model \n",
        "model_0 = LinearRegressionModel()\n",
        "#check out the parameters\n",
        "list(model_0.parameters())"
      ],
      "metadata": {
        "colab": {
          "base_uri": "https://localhost:8080/"
        },
        "id": "oMhbn0dybGyj",
        "outputId": "d201e358-cb4a-48e4-dbd8-5d6c9d7cd0ac"
      },
      "execution_count": null,
      "outputs": [
        {
          "output_type": "execute_result",
          "data": {
            "text/plain": [
              "[Parameter containing:\n",
              " tensor([0.3367], requires_grad=True), Parameter containing:\n",
              " tensor([0.1288], requires_grad=True)]"
            ]
          },
          "metadata": {},
          "execution_count": 9
        }
      ]
    },
    {
      "cell_type": "code",
      "source": [
        "#list named parameters\n",
        "model_0.state_dict()"
      ],
      "metadata": {
        "colab": {
          "base_uri": "https://localhost:8080/"
        },
        "id": "sUuim9Rgng7M",
        "outputId": "ea5ded95-abd0-45ec-a8be-928def8965be"
      },
      "execution_count": null,
      "outputs": [
        {
          "output_type": "execute_result",
          "data": {
            "text/plain": [
              "OrderedDict([('weights', tensor([0.3367])), ('bias', tensor([0.1288]))])"
            ]
          },
          "metadata": {},
          "execution_count": 10
        }
      ]
    },
    {
      "cell_type": "code",
      "source": [
        "X_test , y_test"
      ],
      "metadata": {
        "colab": {
          "base_uri": "https://localhost:8080/"
        },
        "id": "A-E_37IAvG-X",
        "outputId": "0444e8fc-6797-4e35-9cb8-7c42440cd557"
      },
      "execution_count": null,
      "outputs": [
        {
          "output_type": "execute_result",
          "data": {
            "text/plain": [
              "(tensor([[0.8000],\n",
              "         [0.8200],\n",
              "         [0.8400],\n",
              "         [0.8600],\n",
              "         [0.8800],\n",
              "         [0.9000],\n",
              "         [0.9200],\n",
              "         [0.9400],\n",
              "         [0.9600],\n",
              "         [0.9800]]), tensor([[0.8600],\n",
              "         [0.8740],\n",
              "         [0.8880],\n",
              "         [0.9020],\n",
              "         [0.9160],\n",
              "         [0.9300],\n",
              "         [0.9440],\n",
              "         [0.9580],\n",
              "         [0.9720],\n",
              "         [0.9860]]))"
            ]
          },
          "metadata": {},
          "execution_count": 11
        }
      ]
    },
    {
      "cell_type": "code",
      "source": [
        "#making prediction using torch.inference_mode()\n",
        "with torch.inference_mode(): # remove tracking of gradinet because in this case we not making training , prediction will be too much faster\n",
        "  y_preds = model_0(X_test)\n",
        "\n",
        "y_preds\n",
        " #we can also make something similar with no grad however infernece_mode( ) is preferred \n",
        "with torch.no_grad(): # remove tracking of gradinet because in this case we not making training , prediction will be too much faster\n",
        "  y_preds = model_0(X_test)\n",
        "\n",
        "y_preds"
      ],
      "metadata": {
        "colab": {
          "base_uri": "https://localhost:8080/"
        },
        "id": "zkmGsHzgq9Ix",
        "outputId": "5a48681d-7b02-4270-ec4e-bb3559737b3b"
      },
      "execution_count": null,
      "outputs": [
        {
          "output_type": "execute_result",
          "data": {
            "text/plain": [
              "tensor([[0.3982],\n",
              "        [0.4049],\n",
              "        [0.4116],\n",
              "        [0.4184],\n",
              "        [0.4251],\n",
              "        [0.4318],\n",
              "        [0.4386],\n",
              "        [0.4453],\n",
              "        [0.4520],\n",
              "        [0.4588]])"
            ]
          },
          "metadata": {},
          "execution_count": 12
        }
      ]
    },
    {
      "cell_type": "code",
      "source": [
        "plot_predictions(predictions=y_preds)"
      ],
      "metadata": {
        "colab": {
          "base_uri": "https://localhost:8080/",
          "height": 428
        },
        "id": "w3ojy3vTvUGG",
        "outputId": "94dd3e7d-ac2d-4834-d548-8a4e35da0d8f"
      },
      "execution_count": null,
      "outputs": [
        {
          "output_type": "display_data",
          "data": {
            "text/plain": [
              "<Figure size 720x504 with 1 Axes>"
            ],
            "image/png": "[encoded data removed]"
          },
          "metadata": {
            "needs_background": "light"
          }
        }
      ]
    },
    {
      "cell_type": "markdown",
      "source": [
        "# 3. train model \n",
        "the whole idea of training is for a model to move from some *unkown* parameters (may be random) to some *known* parameters\n",
        "in the other word is poor representaion of data to better representation of data \n",
        "\n",
        "one way to measure how poor or how worng your models predictions are is to use a loss function\n",
        "\n",
        "note : loss function may also called cost function or criterion in different areas. \n",
        "\n",
        "#things we need to train : \n",
        "**loss function** a function to measure how worng your model predeicion are to the ideal outputs , lower is better \n",
        "\n",
        "**optimiazer** take into account the loss of a model and adjusts the models parameter to imporve the loss function \n",
        "\n",
        "and specifically for pytorch we need : \n",
        "* training loop\n",
        "* testing loop "
      ],
      "metadata": {
        "id": "OJYC3D_kbyy8"
      }
    },
    {
      "cell_type": "code",
      "source": [
        " #3- train model \n",
        "list(model_0.parameters())"
      ],
      "metadata": {
        "id": "cXkoBgjVwCjr",
        "colab": {
          "base_uri": "https://localhost:8080/"
        },
        "outputId": "ec4dcd11-0558-402e-d1cc-256d8a8b3b41"
      },
      "execution_count": null,
      "outputs": [
        {
          "output_type": "execute_result",
          "data": {
            "text/plain": [
              "[Parameter containing:\n",
              " tensor([0.3367], requires_grad=True), Parameter containing:\n",
              " tensor([0.1288], requires_grad=True)]"
            ]
          },
          "metadata": {},
          "execution_count": 14
        }
      ]
    },
    {
      "cell_type": "code",
      "source": [
        "#check out model parameters \n",
        "model_0.state_dict()"
      ],
      "metadata": {
        "colab": {
          "base_uri": "https://localhost:8080/"
        },
        "id": "q1iccdHwhhc6",
        "outputId": "5be75c38-7aa8-4cec-d4dc-62e479dbdbfa"
      },
      "execution_count": null,
      "outputs": [
        {
          "output_type": "execute_result",
          "data": {
            "text/plain": [
              "OrderedDict([('weights', tensor([0.3367])), ('bias', tensor([0.1288]))])"
            ]
          },
          "metadata": {},
          "execution_count": 15
        }
      ]
    },
    {
      "cell_type": "code",
      "source": [
        "#setup loss function\n",
        "loss_fn = nn.L1Loss()\n",
        "\n",
        "#setup optimizer\n",
        "optimizer = torch.optim.SGD(params = model_0.parameters() , lr = 0.01  ) #lr learning rate is the most important hyperparamrer you can set"
      ],
      "metadata": {
        "id": "JFDzA4sZdj8F"
      },
      "execution_count": null,
      "outputs": []
    },
    {
      "cell_type": "markdown",
      "source": [
        "#buliding a training loop and testing loop in pytorch "
      ],
      "metadata": {
        "id": "NW5auvc9VBxa"
      }
    },
    {
      "cell_type": "code",
      "source": [
        "import torch\n",
        "torch.manual_seed(42)\n",
        "#epoch is one loop through the data ( this is a hyperparameter because we set it ourselves)\n",
        "epochs = 100\n",
        "#these lists help to tracking model progress\n",
        "epoch_count = []\n",
        "train_loss_values = []\n",
        "test_loss_values = []\n",
        "#triaining\n",
        "# 0 loop through the data \n",
        "for epoch in range(epochs):\n",
        "  #set model to training mode\n",
        "  model_0.train() #train mode in pytorch set all paramters that require gradients to require gradients  \n",
        "  #1-forward pass\n",
        "  y_pred = model_0(X_train)\n",
        "\n",
        "  #2-calculate the loss\n",
        "  loss = loss_fn(y_pred,y_train)\n",
        "  print(f\"loss {loss}\")\n",
        "  #3-optimizer zero grad\n",
        "  optimizer.zero_grad()\n",
        "\n",
        "  #4-perform bakc propagation on the loss with the respect to the parameters of the model\n",
        "  loss.backward() \n",
        "\n",
        "  #5-step the optimizer(perform gradient descent)\n",
        "  optimizer.step() #by deafult the optimiazer change will accumulate through the loop so we have to zero them in step 3 above\n",
        "\n",
        "  model_0.eval() #turn off graident tracking(turn off different settings in the model not needed for evaluation/testing (dropout/batchnorm)) to make our code faster\n",
        "  \n",
        "  with torch.inference_mode(): #inference mode is better than torch.no_grad\n",
        "    #1. do forward pass \n",
        "    test_pred = model_0(X_test)\n",
        "\n",
        "    #2-calculate the losss\n",
        "    test_loss = loss_fn(test_pred,y_test)\n",
        "  #print out whats happening\n",
        "  if epoch % 10 ==0:  \n",
        "    print(f\"Epoch: {epoch} | loss: {loss} | test loss : {test_loss}\")\n",
        "    #print out model state_dict()\n",
        "    print(model_0.state_dict())"
      ],
      "metadata": {
        "id": "J7aHdkgyVA9C",
        "colab": {
          "base_uri": "https://localhost:8080/"
        },
        "outputId": "d3cd115d-f7df-400b-9818-a2da77c84d63"
      },
      "execution_count": null,
      "outputs": [
        {
          "output_type": "stream",
          "name": "stdout",
          "text": [
            "loss 0.31288138031959534\n",
            "Epoch: 0 | loss: 0.31288138031959534 | test loss : 0.48106518387794495\n",
            "OrderedDict([('weights', tensor([0.3406])), ('bias', tensor([0.1388]))])\n",
            "loss 0.3013603389263153\n",
            "loss 0.28983935713768005\n",
            "loss 0.2783183455467224\n",
            "loss 0.26679736375808716\n",
            "loss 0.2552763521671295\n",
            "loss 0.24375534057617188\n",
            "loss 0.23223432898521423\n",
            "loss 0.22071333229541779\n",
            "loss 0.20919232070446014\n",
            "loss 0.1976713240146637\n",
            "Epoch: 10 | loss: 0.1976713240146637 | test loss : 0.3463551998138428\n",
            "OrderedDict([('weights', tensor([0.3796])), ('bias', tensor([0.2388]))])\n",
            "loss 0.18615034222602844\n",
            "loss 0.1746293306350708\n",
            "loss 0.16310831904411316\n",
            "loss 0.1515873372554779\n",
            "loss 0.14006635546684265\n",
            "loss 0.1285453587770462\n",
            "loss 0.11702437698841095\n",
            "loss 0.1060912236571312\n",
            "loss 0.09681284427642822\n",
            "loss 0.08908725529909134\n",
            "Epoch: 20 | loss: 0.08908725529909134 | test loss : 0.21729660034179688\n",
            "OrderedDict([('weights', tensor([0.4184])), ('bias', tensor([0.3333]))])\n",
            "loss 0.08227583020925522\n",
            "loss 0.07638873159885406\n",
            "loss 0.07160007208585739\n",
            "loss 0.06747635453939438\n",
            "loss 0.06395438313484192\n",
            "loss 0.06097004935145378\n",
            "loss 0.05845819041132927\n",
            "loss 0.05635259300470352\n",
            "loss 0.0545857772231102\n",
            "loss 0.053148526698350906\n",
            "Epoch: 30 | loss: 0.053148526698350906 | test loss : 0.14464017748832703\n",
            "OrderedDict([('weights', tensor([0.4512])), ('bias', tensor([0.3768]))])\n",
            "loss 0.05181945487856865\n",
            "loss 0.05069301277399063\n",
            "loss 0.0498228520154953\n",
            "loss 0.04895269125699997\n",
            "loss 0.04819351062178612\n",
            "loss 0.047531817108392715\n",
            "loss 0.04692792519927025\n",
            "loss 0.04642331600189209\n",
            "loss 0.04591871052980423\n",
            "loss 0.04543796554207802\n",
            "Epoch: 40 | loss: 0.04543796554207802 | test loss : 0.11360953003168106\n",
            "OrderedDict([('weights', tensor([0.4748])), ('bias', tensor([0.3868]))])\n",
            "loss 0.04503796249628067\n",
            "loss 0.04463795945048332\n",
            "loss 0.04423796385526657\n",
            "loss 0.04383796453475952\n",
            "loss 0.04343796148896217\n",
            "loss 0.043074630200862885\n",
            "loss 0.04272563382983208\n",
            "loss 0.04237663000822067\n",
            "loss 0.04202762991189957\n",
            "loss 0.04167863354086876\n",
            "Epoch: 50 | loss: 0.04167863354086876 | test loss : 0.09919948130846024\n",
            "OrderedDict([('weights', tensor([0.4938])), ('bias', tensor([0.3843]))])\n",
            "loss 0.04132963344454765\n",
            "loss 0.04098063334822655\n",
            "loss 0.04063162952661514\n",
            "loss 0.040282636880874634\n",
            "loss 0.039933640509843826\n",
            "loss 0.03958464413881302\n",
            "loss 0.03923564404249191\n",
            "loss 0.03888664394617081\n",
            "loss 0.0385376438498497\n",
            "loss 0.03818932920694351\n",
            "Epoch: 60 | loss: 0.03818932920694351 | test loss : 0.08886633068323135\n",
            "OrderedDict([('weights', tensor([0.5116])), ('bias', tensor([0.3788]))])\n",
            "loss 0.03785243630409241\n",
            "loss 0.0375034399330616\n",
            "loss 0.037164121866226196\n",
            "loss 0.03681822493672371\n",
            "loss 0.03647511452436447\n",
            "loss 0.03613303601741791\n",
            "loss 0.03578609973192215\n",
            "loss 0.03544783592224121\n",
            "loss 0.035098835825920105\n",
            "loss 0.03476089984178543\n",
            "Epoch: 70 | loss: 0.03476089984178543 | test loss : 0.0805937647819519\n",
            "OrderedDict([('weights', tensor([0.5288])), ('bias', tensor([0.3718]))])\n",
            "loss 0.03441363573074341\n",
            "loss 0.03407188132405281\n",
            "loss 0.03372843936085701\n",
            "loss 0.03338287025690079\n",
            "loss 0.033043231815099716\n",
            "loss 0.03269423171877861\n",
            "loss 0.032357655465602875\n",
            "loss 0.03200903534889221\n",
            "loss 0.03166864812374115\n",
            "loss 0.03132382780313492\n",
            "Epoch: 80 | loss: 0.03132382780313492 | test loss : 0.07232122868299484\n",
            "OrderedDict([('weights', tensor([0.5459])), ('bias', tensor([0.3648]))])\n",
            "loss 0.030979642644524574\n",
            "loss 0.030638623982667923\n",
            "loss 0.0302906334400177\n",
            "loss 0.029953425750136375\n",
            "loss 0.02960442565381527\n",
            "loss 0.029265418648719788\n",
            "loss 0.028919223695993423\n",
            "loss 0.028576409444212914\n",
            "loss 0.028234025463461876\n",
            "loss 0.02788739837706089\n",
            "Epoch: 90 | loss: 0.02788739837706089 | test loss : 0.06473556160926819\n",
            "OrderedDict([('weights', tensor([0.5629])), ('bias', tensor([0.3573]))])\n",
            "loss 0.02754882536828518\n",
            "loss 0.027199819684028625\n",
            "loss 0.026862185448408127\n",
            "loss 0.02651461586356163\n",
            "loss 0.026173178106546402\n",
            "loss 0.025829419493675232\n",
            "loss 0.02548416517674923\n",
            "loss 0.025144213810563087\n",
            "loss 0.02479521557688713\n"
          ]
        }
      ]
    },
    {
      "cell_type": "code",
      "source": [
        "model_0.state_dict()"
      ],
      "metadata": {
        "colab": {
          "base_uri": "https://localhost:8080/"
        },
        "id": "6ePl1pa7u6ez",
        "outputId": "56028c64-fb5b-41c3-9c98-436c6897b0f7"
      },
      "execution_count": null,
      "outputs": [
        {
          "output_type": "execute_result",
          "data": {
            "text/plain": [
              "OrderedDict([('weights', tensor([0.5784])), ('bias', tensor([0.3513]))])"
            ]
          },
          "metadata": {},
          "execution_count": 18
        }
      ]
    },
    {
      "cell_type": "code",
      "source": [
        "model_0.state_dict()"
      ],
      "metadata": {
        "colab": {
          "base_uri": "https://localhost:8080/"
        },
        "id": "c0u6nJqFuqo8",
        "outputId": "173d5d7d-1cc0-4eaa-f4c1-ac56569cde90"
      },
      "execution_count": null,
      "outputs": [
        {
          "output_type": "execute_result",
          "data": {
            "text/plain": [
              "OrderedDict([('weights', tensor([0.5784])), ('bias', tensor([0.3513]))])"
            ]
          },
          "metadata": {},
          "execution_count": 19
        }
      ]
    },
    {
      "cell_type": "code",
      "source": [
        "model_0.state_dict()"
      ],
      "metadata": {
        "colab": {
          "base_uri": "https://localhost:8080/"
        },
        "id": "o4BMSHCouLyx",
        "outputId": "8c0c6697-d269-4fdf-b18f-1ce68fbbf1ec"
      },
      "execution_count": null,
      "outputs": [
        {
          "output_type": "execute_result",
          "data": {
            "text/plain": [
              "OrderedDict([('weights', tensor([0.5784])), ('bias', tensor([0.3513]))])"
            ]
          },
          "metadata": {},
          "execution_count": 20
        }
      ]
    },
    {
      "cell_type": "code",
      "source": [
        "with torch.inference_mode():\n",
        "  y_preds_new = model_0(X_test)\n",
        "  "
      ],
      "metadata": {
        "id": "sW8cb7ODwB41"
      },
      "execution_count": null,
      "outputs": []
    },
    {
      "cell_type": "code",
      "source": [
        "plot_predictions(predictions = y_preds)"
      ],
      "metadata": {
        "colab": {
          "base_uri": "https://localhost:8080/",
          "height": 428
        },
        "id": "V9Ie9rwwwivp",
        "outputId": "ec3175bf-c1b4-496b-a135-511b7bbfcab9"
      },
      "execution_count": null,
      "outputs": [
        {
          "output_type": "display_data",
          "data": {
            "text/plain": [
              "<Figure size 720x504 with 1 Axes>"
            ],
            "image/png": "[encoded data removed]"
          },
          "metadata": {
            "needs_background": "light"
          }
        }
      ]
    },
    {
      "cell_type": "code",
      "source": [
        "plot_predictions(predictions = y_preds_new)"
      ],
      "metadata": {
        "colab": {
          "base_uri": "https://localhost:8080/",
          "height": 428
        },
        "id": "IUXpqSEQws4I",
        "outputId": "b9fdba57-2416-4ca3-dbb1-c4d734273e5a"
      },
      "execution_count": null,
      "outputs": [
        {
          "output_type": "display_data",
          "data": {
            "text/plain": [
              "<Figure size 720x504 with 1 Axes>"
            ],
            "image/png": "[encoded data removed]"
          },
          "metadata": {
            "needs_background": "light"
          }
        }
      ]
    },
    {
      "cell_type": "markdown",
      "source": [
        "#saving model in pytorch\n",
        "threee main methods for saving and loading models in pytorch\n",
        "\n",
        "1. torch.save() allow to save a pytoch object in pickle format\n",
        "2. torch.load() allow you to load a saved pytorch object\n",
        "3. torch.nn.Module.load_state_dict() this allow you to load a models saved state dictionary\n"
      ],
      "metadata": {
        "id": "EDK18RQz2XFi"
      }
    },
    {
      "cell_type": "code",
      "source": [
        "#saving our pytorch model\n",
        "from pathlib import Path \n",
        "\n",
        "#1- create a model directory \n",
        "model_path = Path('models')\n",
        "model_path.mkdir(parents=True , exist_ok= True)\n",
        "\n",
        "#2 create model save path \n",
        "model_name = '01_pytroch_workflow_model_0.pth'\n",
        "model_save_path = model_path / model_name\n",
        "\n",
        "#3- saving model\n",
        "print(f\"saving model to: {model_save_path}\")\n",
        "torch.save(obj=model_0.state_dict() , f=model_save_path)"
      ],
      "metadata": {
        "colab": {
          "base_uri": "https://localhost:8080/"
        },
        "id": "7LiHUXhiwvGo",
        "outputId": "e9cd3800-9568-4ae5-9741-ae1058ea1449"
      },
      "execution_count": null,
      "outputs": [
        {
          "output_type": "stream",
          "name": "stdout",
          "text": [
            "saving model to: models/01_pytroch_workflow_model_0.pth\n"
          ]
        }
      ]
    },
    {
      "cell_type": "code",
      "source": [
        "!ls -l models"
      ],
      "metadata": {
        "colab": {
          "base_uri": "https://localhost:8080/"
        },
        "id": "Iy24YEtiDpEJ",
        "outputId": "1512f96b-7b08-4f8a-e7c4-eabd1a84916f"
      },
      "execution_count": null,
      "outputs": [
        {
          "output_type": "stream",
          "name": "stdout",
          "text": [
            "total 4\n",
            "-rw-r--r-- 1 root root 1207 Jan 25 23:07 01_pytroch_workflow_model_0.pth\n"
          ]
        }
      ]
    },
    {
      "cell_type": "markdown",
      "source": [
        "#scince we saved our model state_dict() rather the entire model , we will create a new instance of our model class and load the saved state_dict() into that"
      ],
      "metadata": {
        "id": "8xoAKKgxFJLm"
      }
    },
    {
      "cell_type": "code",
      "source": [
        "#load models\n",
        "loaded_model_0 = LinearRegressionModel()\n",
        "#load the saved state_dict of model_0 (this will update the new instance with updated parameters)\n",
        "loaded_model_0.load_state_dict(torch.load(f=model_save_path))"
      ],
      "metadata": {
        "colab": {
          "base_uri": "https://localhost:8080/"
        },
        "id": "5TojW01tESyS",
        "outputId": "99f9fe21-ec19-4a9f-fe16-ece08b81d534"
      },
      "execution_count": null,
      "outputs": [
        {
          "output_type": "execute_result",
          "data": {
            "text/plain": [
              "<All keys matched successfully>"
            ]
          },
          "metadata": {},
          "execution_count": 26
        }
      ]
    },
    {
      "cell_type": "code",
      "source": [
        "loaded_model_0.state_dict()"
      ],
      "metadata": {
        "colab": {
          "base_uri": "https://localhost:8080/"
        },
        "id": "N0v_fpf7HFGH",
        "outputId": "9cb41d0c-ca1f-4f55-b5d6-dd61d4007b02"
      },
      "execution_count": null,
      "outputs": [
        {
          "output_type": "execute_result",
          "data": {
            "text/plain": [
              "OrderedDict([('weights', tensor([0.5784])), ('bias', tensor([0.3513]))])"
            ]
          },
          "metadata": {},
          "execution_count": 27
        }
      ]
    },
    {
      "cell_type": "code",
      "source": [
        "#make some predictions\n",
        "loaded_model_0.eval()\n",
        "with torch.inference_mode():\n",
        "  loaded_model_preds = loaded_model_0(X_test)\n",
        "\n",
        "loaded_model_preds"
      ],
      "metadata": {
        "colab": {
          "base_uri": "https://localhost:8080/"
        },
        "id": "6P8VOkyRHIyA",
        "outputId": "c42d2ee5-8379-43f1-98df-0adfd065d42d"
      },
      "execution_count": null,
      "outputs": [
        {
          "output_type": "execute_result",
          "data": {
            "text/plain": [
              "tensor([[0.8141],\n",
              "        [0.8256],\n",
              "        [0.8372],\n",
              "        [0.8488],\n",
              "        [0.8603],\n",
              "        [0.8719],\n",
              "        [0.8835],\n",
              "        [0.8950],\n",
              "        [0.9066],\n",
              "        [0.9182]])"
            ]
          },
          "metadata": {},
          "execution_count": 28
        }
      ]
    },
    {
      "cell_type": "code",
      "source": [
        "#to sure the 2 models are indentical we can compare loaded model preds with original model preds\n",
        "y_preds == loaded_model_preds"
      ],
      "metadata": {
        "colab": {
          "base_uri": "https://localhost:8080/"
        },
        "id": "fY_OLg7_HiG2",
        "outputId": "1de57520-58e7-4e87-e99e-f05e817ed6dc"
      },
      "execution_count": null,
      "outputs": [
        {
          "output_type": "execute_result",
          "data": {
            "text/plain": [
              "tensor([[False],\n",
              "        [False],\n",
              "        [False],\n",
              "        [False],\n",
              "        [False],\n",
              "        [False],\n",
              "        [False],\n",
              "        [False],\n",
              "        [False],\n",
              "        [False]])"
            ]
          },
          "metadata": {},
          "execution_count": 29
        }
      ]
    },
    {
      "cell_type": "code",
      "source": [
        "y_preds"
      ],
      "metadata": {
        "colab": {
          "base_uri": "https://localhost:8080/"
        },
        "id": "R-L20XvhHtuO",
        "outputId": "cfd781d1-a799-4c8f-f52f-e742b2c8599c"
      },
      "execution_count": null,
      "outputs": [
        {
          "output_type": "execute_result",
          "data": {
            "text/plain": [
              "tensor([[0.3982],\n",
              "        [0.4049],\n",
              "        [0.4116],\n",
              "        [0.4184],\n",
              "        [0.4251],\n",
              "        [0.4318],\n",
              "        [0.4386],\n",
              "        [0.4453],\n",
              "        [0.4520],\n",
              "        [0.4588]])"
            ]
          },
          "metadata": {},
          "execution_count": 30
        }
      ]
    },
    {
      "cell_type": "code",
      "source": [
        "model_0.eval()\n",
        "with torch.inference_mode():\n",
        "  y_preds = model_0(X_test)\n",
        "\n",
        "y_preds"
      ],
      "metadata": {
        "colab": {
          "base_uri": "https://localhost:8080/"
        },
        "id": "dWqrLYOPHvuH",
        "outputId": "519b5d30-ef2a-418e-9008-37339e61a102"
      },
      "execution_count": null,
      "outputs": [
        {
          "output_type": "execute_result",
          "data": {
            "text/plain": [
              "tensor([[0.8141],\n",
              "        [0.8256],\n",
              "        [0.8372],\n",
              "        [0.8488],\n",
              "        [0.8603],\n",
              "        [0.8719],\n",
              "        [0.8835],\n",
              "        [0.8950],\n",
              "        [0.9066],\n",
              "        [0.9182]])"
            ]
          },
          "metadata": {},
          "execution_count": 31
        }
      ]
    },
    {
      "cell_type": "markdown",
      "source": [
        "#putting every thing together"
      ],
      "metadata": {
        "id": "rBh0ZJ9UIUF7"
      }
    },
    {
      "cell_type": "code",
      "source": [
        "from torch import nn\n",
        "import matplotlib.pyplot as plt "
      ],
      "metadata": {
        "id": "5MXeEQkSIS2u"
      },
      "execution_count": null,
      "outputs": []
    },
    {
      "cell_type": "markdown",
      "source": [
        "create device agnostic code \n",
        "this mean if we've got access to a GPU , our code will use it \n",
        "- if no gpu avaliabe code deafult use cpu "
      ],
      "metadata": {
        "id": "YnqE0SDmMSsL"
      }
    },
    {
      "cell_type": "code",
      "source": [
        "#setup device agnostic code\n",
        "device = \"cuda\" if torch.cuda.is_available() else \"cpu\"\n",
        "print(f\"using device: {device}\")\n"
      ],
      "metadata": {
        "colab": {
          "base_uri": "https://localhost:8080/"
        },
        "id": "8pzLXhQKMlZV",
        "outputId": "e1f63085-de41-4478-9af1-584fd8e551a8"
      },
      "execution_count": null,
      "outputs": [
        {
          "output_type": "stream",
          "name": "stdout",
          "text": [
            "using device: cuda\n"
          ]
        }
      ]
    },
    {
      "cell_type": "code",
      "source": [
        "#putting together part 1 preparing data\n",
        "#create some data using the linear regression formula of y = weigth * x + bias \n",
        "weight = 0.7 \n",
        "bias = 0.3\n",
        "\n",
        "#create reange values \n",
        "start = 0 \n",
        "end = 1 \n",
        "step = 0.02\n",
        "\n",
        "#create x and y (features and labels)\n",
        "X = torch.arange(start , end , step).unsqueeze(dim=1) # without unsqueez errors will pop up \n",
        "y = weight * X + bias \n",
        "\n",
        "X[:10] , y[:10]"
      ],
      "metadata": {
        "colab": {
          "base_uri": "https://localhost:8080/"
        },
        "id": "JgqaEMcRQ3tf",
        "outputId": "cb81122f-2b27-4a79-ef73-a84c823a0de8"
      },
      "execution_count": null,
      "outputs": [
        {
          "output_type": "execute_result",
          "data": {
            "text/plain": [
              "(tensor([[0.0000],\n",
              "         [0.0200],\n",
              "         [0.0400],\n",
              "         [0.0600],\n",
              "         [0.0800],\n",
              "         [0.1000],\n",
              "         [0.1200],\n",
              "         [0.1400],\n",
              "         [0.1600],\n",
              "         [0.1800]]), tensor([[0.3000],\n",
              "         [0.3140],\n",
              "         [0.3280],\n",
              "         [0.3420],\n",
              "         [0.3560],\n",
              "         [0.3700],\n",
              "         [0.3840],\n",
              "         [0.3980],\n",
              "         [0.4120],\n",
              "         [0.4260]]))"
            ]
          },
          "metadata": {},
          "execution_count": 36
        }
      ]
    },
    {
      "cell_type": "code",
      "source": [
        "#split data \n",
        "train_split = int(.8 * len(X))\n",
        "X_train , y_train = X[:train_split] , y[:train_split] \n",
        "X_test , y_test = X[train_split:] , y[train_split:] \n",
        "len(X_train) , len(y_train) , len(X_test) , len(y_test)"
      ],
      "metadata": {
        "colab": {
          "base_uri": "https://localhost:8080/"
        },
        "id": "LTw4LxpVTqDQ",
        "outputId": "4ed3cca5-9fa2-4cfd-9661-123ac0acd413"
      },
      "execution_count": null,
      "outputs": [
        {
          "output_type": "execute_result",
          "data": {
            "text/plain": [
              "(40, 40, 10, 10)"
            ]
          },
          "metadata": {},
          "execution_count": 37
        }
      ]
    },
    {
      "cell_type": "code",
      "source": [
        "#plot the data \n",
        "#if you dont have plot_predictions() function loaded , this will error\n",
        "plot_predictions(X_train,y_train,X_test,y_test)"
      ],
      "metadata": {
        "colab": {
          "base_uri": "https://localhost:8080/",
          "height": 428
        },
        "id": "mKrBgvMWUMIO",
        "outputId": "35e592cc-a404-4766-f54d-e64dcaa5130b"
      },
      "execution_count": null,
      "outputs": [
        {
          "output_type": "display_data",
          "data": {
            "text/plain": [
              "<Figure size 720x504 with 1 Axes>"
            ],
            "image/png": "[encoded data removed]"
          },
          "metadata": {
            "needs_background": "light"
          }
        }
      ]
    },
    {
      "cell_type": "code",
      "source": [
        "#6.2 buliding a pytorch Linear model\n",
        "from torch import nn\n",
        "import torch\n",
        "class LinearRegressionModelv1(nn.Module):\n",
        "  def __init__(self):\n",
        "    super().__init__()\n",
        "    #use nn.linear() for creating model parameters\n",
        "    self.linear_layer = nn.Linear(in_features=1, out_features=1)\n",
        "    \n",
        "  def forward(self,x:torch.Tensor)->torch.Tensor: \n",
        "    return self.linear_layer(x) \n",
        "\n",
        "#set the manual seed \n",
        "torch.manual_seed(42)\n",
        "model_1 = LinearRegressionModelv1()\n",
        "model_1 , model_1.state_dict()"
      ],
      "metadata": {
        "colab": {
          "base_uri": "https://localhost:8080/"
        },
        "id": "ASar40EmUc-C",
        "outputId": "0582db1b-ca4d-4c20-ea25-26d4929eab8a"
      },
      "execution_count": null,
      "outputs": [
        {
          "output_type": "execute_result",
          "data": {
            "text/plain": [
              "(LinearRegressionModelv1(\n",
              "   (linear_layer): Linear(in_features=1, out_features=1, bias=True)\n",
              " ),\n",
              " OrderedDict([('linear_layer.weight', tensor([[0.7645]])),\n",
              "              ('linear_layer.bias', tensor([0.8300]))]))"
            ]
          },
          "metadata": {},
          "execution_count": 53
        }
      ]
    },
    {
      "cell_type": "code",
      "source": [
        "#train the model \n",
        "#set model to use target device \n",
        "next(model_1.parameters()).device"
      ],
      "metadata": {
        "colab": {
          "base_uri": "https://localhost:8080/"
        },
        "id": "UBXqa9pIXmlh",
        "outputId": "57f20599-1958-481e-ad83-91e7c67fc4b3"
      },
      "execution_count": null,
      "outputs": [
        {
          "output_type": "execute_result",
          "data": {
            "text/plain": [
              "device(type='cpu')"
            ]
          },
          "metadata": {},
          "execution_count": 55
        }
      ]
    },
    {
      "cell_type": "code",
      "source": [
        "#set model to use target device \n",
        "model_1.to(device)\n",
        "next(model_1.parameters()).device"
      ],
      "metadata": {
        "colab": {
          "base_uri": "https://localhost:8080/"
        },
        "id": "m7Rbol0IZ6ux",
        "outputId": "be9a4e87-3c97-4f0e-94ff-bad0266bfd10"
      },
      "execution_count": null,
      "outputs": [
        {
          "output_type": "execute_result",
          "data": {
            "text/plain": [
              "device(type='cuda', index=0)"
            ]
          },
          "metadata": {},
          "execution_count": 57
        }
      ]
    },
    {
      "cell_type": "markdown",
      "source": [
        "training code \n",
        "we need : \n",
        "1. loss function (measure how wronge our model is )\n",
        "2. optimizer (is to optimize model paramters to reduce the loss function )\n",
        "3. training loop \n",
        "4. test loop"
      ],
      "metadata": {
        "id": "93J0EoygaNFu"
      }
    },
    {
      "cell_type": "code",
      "source": [
        "#setup the loss function\n",
        "loss_fn = nn.L1Loss()\n",
        "\n",
        "#setup optimizer\n",
        "optimizer = torch.optim.SGD(params=model_1.parameters(),lr = 0.01 )#lr how big the step the optimizer take to change our parameters every iteration\n",
        "#the params is the parameter we want the optimizer to optimize  "
      ],
      "metadata": {
        "id": "MghWP2poasuT"
      },
      "execution_count": null,
      "outputs": []
    },
    {
      "cell_type": "code",
      "source": [
        "#trining loop \n",
        "torch.manual_seed(42)\n",
        "\n",
        "epochs = 200\n",
        "\n",
        "#put data into target device (device agnostic code for data)\n",
        "X_train = X_train.to(device)\n",
        "X_test = X_test.to(device)\n",
        "y_train = y_train.to(device)\n",
        "y_test = y_test.to(device)\n",
        "\n",
        "#-------------------------------------------------------\n",
        "for epoch in range(epochs) :\n",
        "  model_1.train()\n",
        "\n",
        "  #1-forward pass to make predications\n",
        "  y_pred = model_1(X_train)\n",
        "\n",
        "  #2- calculate the loos \n",
        "  loss = loss_fn(y_pred , y_train)\n",
        "\n",
        "  #3- optimizer zero grad\n",
        "  optimizer.zero_grad() #because every step is accmulate the grades so we want to zero it to remove other grades \n",
        "\n",
        "  #4- perform backpropagation\n",
        "  loss.backward()\n",
        "\n",
        "  #5- optimizer step\n",
        "  optimizer.step()\n",
        "\n",
        "  #testing \n",
        "  model_1.eval()\n",
        "\n",
        "  with torch.inference_mode():\n",
        "    test_pred = model_1(X_test)\n",
        "    test_loss = loss_fn(test_pred,y_test)\n",
        "\n",
        "    #print out what is happening\n",
        "    if epoch % 10 == 0 :\n",
        "      print(f\"epoch : {epoch} | loss : {loss} | test loss : {test_loss}\")"
      ],
      "metadata": {
        "colab": {
          "base_uri": "https://localhost:8080/"
        },
        "id": "LvyByM95bZLY",
        "outputId": "bd030dc7-660f-49ce-877a-9dacde5e8905"
      },
      "execution_count": null,
      "outputs": [
        {
          "output_type": "stream",
          "name": "stdout",
          "text": [
            "epoch : 0 | loss : 0.5551779866218567 | test loss : 0.5739762187004089\n",
            "epoch : 10 | loss : 0.439968079328537 | test loss : 0.4392664134502411\n",
            "epoch : 20 | loss : 0.3247582018375397 | test loss : 0.30455657839775085\n",
            "epoch : 30 | loss : 0.20954833924770355 | test loss : 0.16984669864177704\n",
            "epoch : 40 | loss : 0.09433845430612564 | test loss : 0.03513690456748009\n",
            "epoch : 50 | loss : 0.023886388167738914 | test loss : 0.04784907028079033\n",
            "epoch : 60 | loss : 0.019956795498728752 | test loss : 0.045803118497133255\n",
            "epoch : 70 | loss : 0.016517987474799156 | test loss : 0.037530567497015\n",
            "epoch : 80 | loss : 0.013089174404740334 | test loss : 0.02994490973651409\n",
            "epoch : 90 | loss : 0.009653178043663502 | test loss : 0.02167237363755703\n",
            "epoch : 100 | loss : 0.006215683650225401 | test loss : 0.014086711220443249\n",
            "epoch : 110 | loss : 0.00278724217787385 | test loss : 0.005814164876937866\n",
            "epoch : 120 | loss : 0.0012645035749301314 | test loss : 0.013801801018416882\n",
            "epoch : 130 | loss : 0.0012645035749301314 | test loss : 0.013801801018416882\n",
            "epoch : 140 | loss : 0.0012645035749301314 | test loss : 0.013801801018416882\n",
            "epoch : 150 | loss : 0.0012645035749301314 | test loss : 0.013801801018416882\n",
            "epoch : 160 | loss : 0.0012645035749301314 | test loss : 0.013801801018416882\n",
            "epoch : 170 | loss : 0.0012645035749301314 | test loss : 0.013801801018416882\n",
            "epoch : 180 | loss : 0.0012645035749301314 | test loss : 0.013801801018416882\n",
            "epoch : 190 | loss : 0.0012645035749301314 | test loss : 0.013801801018416882\n"
          ]
        }
      ]
    },
    {
      "cell_type": "code",
      "source": [
        "model_1.state_dict()"
      ],
      "metadata": {
        "colab": {
          "base_uri": "https://localhost:8080/"
        },
        "id": "DMDE5PgHdS3d",
        "outputId": "d904dbbc-4ac6-439d-90d0-df81191dd7e8"
      },
      "execution_count": null,
      "outputs": [
        {
          "output_type": "execute_result",
          "data": {
            "text/plain": [
              "OrderedDict([('linear_layer.weight', tensor([[0.6968]], device='cuda:0')),\n",
              "             ('linear_layer.bias', tensor([0.3025], device='cuda:0'))])"
            ]
          },
          "metadata": {},
          "execution_count": 67
        }
      ]
    },
    {
      "cell_type": "code",
      "source": [
        "#making and evaluating predictions\n",
        "#1- tirn model into evaluation mode\n",
        "model_1.eval()\n",
        "\n",
        "#make prediction on the test data \n",
        "with torch.inference_mode():\n",
        "  y_preds = model_1(X_test)\n",
        "\n",
        "y_preds"
      ],
      "metadata": {
        "colab": {
          "base_uri": "https://localhost:8080/"
        },
        "id": "Xf5Ncv36fXtW",
        "outputId": "dd605b17-c54d-4d28-9637-39cc5e6c9299"
      },
      "execution_count": null,
      "outputs": [
        {
          "output_type": "execute_result",
          "data": {
            "text/plain": [
              "tensor([[0.8600],\n",
              "        [0.8739],\n",
              "        [0.8878],\n",
              "        [0.9018],\n",
              "        [0.9157],\n",
              "        [0.9296],\n",
              "        [0.9436],\n",
              "        [0.9575],\n",
              "        [0.9714],\n",
              "        [0.9854]], device='cuda:0')"
            ]
          },
          "metadata": {},
          "execution_count": 69
        }
      ]
    },
    {
      "cell_type": "code",
      "source": [
        "#check model prediction \n",
        "plot_predictions(predictions = y_preds.cpu())"
      ],
      "metadata": {
        "colab": {
          "base_uri": "https://localhost:8080/",
          "height": 428
        },
        "id": "xuWig_r7fsf3",
        "outputId": "ccaae39d-4ac7-4c9d-f460-23914f57b662"
      },
      "execution_count": null,
      "outputs": [
        {
          "output_type": "display_data",
          "data": {
            "text/plain": [
              "<Figure size 720x504 with 1 Axes>"
            ],
            "image/png": "[encoded data removed]"
          },
          "metadata": {
            "needs_background": "light"
          }
        }
      ]
    },
    {
      "cell_type": "code",
      "source": [
        "#6.5 saving and loading and model \n",
        "from pathlib import Path \n",
        "\n",
        "model_path =Path(\"new_models\") \n",
        "model_path.mkdir(parents = True , exist_ok=True)\n",
        "\n",
        "model_name = \"linear_model.pth\"\n",
        "model_save_path = model_path / model_name\n",
        "torch.save(obj=model_1.state_dict(),f=model_save_path)"
      ],
      "metadata": {
        "id": "v5SjfegOgdhC"
      },
      "execution_count": null,
      "outputs": []
    },
    {
      "cell_type": "code",
      "source": [
        "#reload model \n",
        "loaded_model1 = LinearRegressionModelv1()\n",
        "loaded_model1.load_state_dict(torch.load(f=model_save_path))\n",
        "loaded_model1.to(device)"
      ],
      "metadata": {
        "colab": {
          "base_uri": "https://localhost:8080/"
        },
        "id": "7edzqod1hwfz",
        "outputId": "370b8a70-b364-4033-e20b-dd9c5d9b4f8e"
      },
      "execution_count": null,
      "outputs": [
        {
          "output_type": "execute_result",
          "data": {
            "text/plain": [
              "LinearRegressionModelv1(\n",
              "  (linear_layer): Linear(in_features=1, out_features=1, bias=True)\n",
              ")"
            ]
          },
          "metadata": {},
          "execution_count": 83
        }
      ]
    },
    {
      "cell_type": "code",
      "source": [
        "loaded_model1.state_dict() , model_1.state_dict()"
      ],
      "metadata": {
        "colab": {
          "base_uri": "https://localhost:8080/"
        },
        "id": "CCC9Gdw6iE9e",
        "outputId": "5e08cabc-f7fc-44f2-f049-499ab20baf23"
      },
      "execution_count": null,
      "outputs": [
        {
          "output_type": "execute_result",
          "data": {
            "text/plain": [
              "(OrderedDict([('linear_layer.weight', tensor([[0.6968]], device='cuda:0')),\n",
              "              ('linear_layer.bias', tensor([0.3025], device='cuda:0'))]),\n",
              " OrderedDict([('linear_layer.weight', tensor([[0.6968]], device='cuda:0')),\n",
              "              ('linear_layer.bias', tensor([0.3025], device='cuda:0'))]))"
            ]
          },
          "metadata": {},
          "execution_count": 84
        }
      ]
    },
    {
      "cell_type": "code",
      "source": [
        "#evaluate loaded model \n",
        "loaded_model1.eval()\n",
        "\n",
        "with torch.inference_mode():\n",
        "  loaded_model1_preds = loaded_model1(X_test)\n",
        "\n",
        "y_preds == loaded_model1_preds "
      ],
      "metadata": {
        "colab": {
          "base_uri": "https://localhost:8080/"
        },
        "id": "gQB5SF4JkuGS",
        "outputId": "4af572ea-9880-429d-87e0-c1978dd249f4"
      },
      "execution_count": null,
      "outputs": [
        {
          "output_type": "execute_result",
          "data": {
            "text/plain": [
              "tensor([[True],\n",
              "        [True],\n",
              "        [True],\n",
              "        [True],\n",
              "        [True],\n",
              "        [True],\n",
              "        [True],\n",
              "        [True],\n",
              "        [True],\n",
              "        [True]], device='cuda:0')"
            ]
          },
          "metadata": {},
          "execution_count": 87
        }
      ]
    }
  ]
}