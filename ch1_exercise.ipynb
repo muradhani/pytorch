{
  "nbformat": 4,
  "nbformat_minor": 0,
  "metadata": {
    "colab": {
      "provenance": [],
      "authorship_tag": "ABX9TyOTCem2n3LV6ldVJoUvsv63",
      "include_colab_link": true
    },
    "kernelspec": {
      "name": "python3",
      "display_name": "Python 3"
    },
    "language_info": {
      "name": "python"
    },
    "accelerator": "GPU",
    "gpuClass": "standard"
  },
  "cells": [
    {
      "cell_type": "markdown",
      "metadata": {
        "id": "view-in-github",
        "colab_type": "text"
      },
      "source": [
        "<a href=\"https://colab.research.google.com/github/muradhani/pytorch/blob/main/ch1_exercise.ipynb\" target=\"_parent\"><img src=\"https://colab.research.google.com/assets/colab-badge.svg\" alt=\"Open In Colab\"/></a>"
      ]
    },
    {
      "cell_type": "code",
      "source": [
        "import torch"
      ],
      "metadata": {
        "id": "wmI1Bk4lTZYn"
      },
      "execution_count": 1,
      "outputs": []
    },
    {
      "cell_type": "code",
      "execution_count": 3,
      "metadata": {
        "colab": {
          "base_uri": "https://localhost:8080/"
        },
        "id": "pIyJwmGfRoIw",
        "outputId": "6de4fe33-83ae-4d33-d6af-484ba4f1210e"
      },
      "outputs": [
        {
          "output_type": "stream",
          "name": "stdout",
          "text": [
            "using device : cpu\n"
          ]
        }
      ],
      "source": [
        "\n",
        "#setup agnostic code\n",
        "device = \"cuda\" if torch.cuda.is_available() else \"cpu\"\n",
        "print(f\"using device : {device}\")"
      ]
    },
    {
      "cell_type": "code",
      "source": [
        "#creating straight line dataset using linear regression\n",
        "#create known parameters\n",
        "weight = 0.3\n",
        "bias = 0.9\n",
        "\n",
        "start = 0 \n",
        "end = 1 \n",
        "step = 0.02\n",
        " \n",
        "x = torch.arange(start , end ,step)\n",
        "y = weight * x + bias \n"
      ],
      "metadata": {
        "id": "Ryj4FEAHUL3p"
      },
      "execution_count": 5,
      "outputs": []
    },
    {
      "cell_type": "code",
      "source": [
        "#splitting data \n",
        "train_split = int(len(x)* 0.8)\n",
        "x_train , y_train = x[:train_split] , y[:train_split]\n",
        "x_test , y_test   = x[train_split:] , y[train_split:]\n",
        "len(x_train) , len(x_test) , len(y_train) , len(y_test)"
      ],
      "metadata": {
        "colab": {
          "base_uri": "https://localhost:8080/"
        },
        "id": "FkJrGJv7ULOD",
        "outputId": "06a4051d-6195-40b0-b913-6b0b26ea7cd5"
      },
      "execution_count": 6,
      "outputs": [
        {
          "output_type": "execute_result",
          "data": {
            "text/plain": [
              "(40, 10, 40, 10)"
            ]
          },
          "metadata": {},
          "execution_count": 6
        }
      ]
    },
    {
      "cell_type": "code",
      "source": [
        "#visualize function of data \n",
        "import matplotlib.pyplot as plt\n",
        "\n",
        "def plot_predictions(train_data = x_train,\n",
        "                     train_labels = y_train,\n",
        "                     test_data = x_test,\n",
        "                     test_labels = y_test,\n",
        "                     predictions = None):\n",
        "  plt.figure(figsize=(10,7))\n",
        "  #plot training data in blue\n",
        "  plt.scatter(train_data , train_labels , c=\"b\" , s=4 , label=\"training data\")\n",
        "  \n",
        "  #plot test data in green \n",
        "  plt.scatter(test_data , test_labels,c=\"g\",s=4,label=\"testing data\")\n",
        "\n",
        "  #are there predictions ?\n",
        "  if predictions is not None:\n",
        "    #plot the predictions if they exist\n",
        "    plt.scatter(test_data,predictions,c=\"r\",s=4,label=\"predictions\")\n",
        "  #show the legend\n",
        "  plt.legend(prop={\"size\":14});"
      ],
      "metadata": {
        "id": "xiGlmO8OVsjr"
      },
      "execution_count": 9,
      "outputs": []
    },
    {
      "cell_type": "code",
      "source": [
        "plot_predictions(x_train , y_train , x_test , y_test)"
      ],
      "metadata": {
        "colab": {
          "base_uri": "https://localhost:8080/",
          "height": 428
        },
        "id": "v5FLfk4fV0L_",
        "outputId": "19985142-6b11-4972-ea88-ec71c9a214c2"
      },
      "execution_count": 10,
      "outputs": [
        {
          "output_type": "display_data",
          "data": {
            "text/plain": [
              "<Figure size 720x504 with 1 Axes>"
            ],
            "image/png": "[encoded data removed]"
          },
          "metadata": {
            "needs_background": "light"
          }
        }
      ]
    },
    {
      "cell_type": "code",
      "source": [
        "from torch import nn \n",
        "\n",
        "class LinearRegressionModel(nn.Module):\n",
        "  def __init__(self):\n",
        "    super().__init__()\n",
        "    self.weight = nn.Parameter(torch.randn(1,requires_grad=True ,dtype=torch.float ))\n",
        "    self.bias = nn.Parameter(torch.randn(1,requires_grad=True ,dtype=torch.float ))\n",
        "\n",
        "  def forward(self,x:torch.Tensor )->torch.Tensor:\n",
        "    return x * self.weight + self.bias"
      ],
      "metadata": {
        "id": "Aj33_SmpWeop"
      },
      "execution_count": 13,
      "outputs": []
    },
    {
      "cell_type": "code",
      "source": [
        "#checking the content of pytorch model \n",
        "#create a random seed\n",
        "torch.manual_seed(42)\n",
        "#create instance of the model \n",
        "model_0 = LinearRegressionModel()\n",
        "#check out the parameters\n",
        "list(model_0.parameters())"
      ],
      "metadata": {
        "colab": {
          "base_uri": "https://localhost:8080/"
        },
        "id": "uJXxE7J2e6nR",
        "outputId": "266a6086-efbc-41af-c7d9-4dc460006e52"
      },
      "execution_count": 15,
      "outputs": [
        {
          "output_type": "execute_result",
          "data": {
            "text/plain": [
              "[Parameter containing:\n",
              " tensor([0.3367], requires_grad=True), Parameter containing:\n",
              " tensor([0.1288], requires_grad=True)]"
            ]
          },
          "metadata": {},
          "execution_count": 15
        }
      ]
    },
    {
      "cell_type": "code",
      "source": [
        "#trainig loop \n",
        "#loss function\n",
        "loss_fn = nn.L1Loss()\n",
        "\n",
        "#optimizer \n",
        "optimizer = torch.optim.SGD(params=model_0.parameters(),lr = 0.01)\n"
      ],
      "metadata": {
        "id": "pS2BAsaofdev"
      },
      "execution_count": 16,
      "outputs": []
    },
    {
      "cell_type": "code",
      "source": [
        "#training loop \n",
        "epochs = 300 \n",
        "\n",
        "for epoch in range(epochs):\n",
        "  model_0.train()\n",
        "  #1-forward\n",
        "  y_pred = model_0(x_train)\n",
        "\n",
        "  #2-calculate loss \n",
        "  loss = loss_fn(y_train , y_pred)\n",
        "  print(f\"loss {loss}\")\n",
        "\n",
        "  #3-optimizer zero grade \n",
        "  optimizer.zero_grad()\n",
        "  #4-back propagation\n",
        "  loss.backward()\n",
        "\n",
        "  #5-optimize the parameters\n",
        "  optimizer.step()\n",
        "\n",
        "  model_0.eval()\n",
        "  with torch.inference_mode():\n",
        "    #1-forward pass \n",
        "    test_pred = model_0(x_test)\n",
        "    #2-calculate the loss\n",
        "    test_loss = loss_fn(y_test , test_pred)\n",
        "\n",
        "  #print out whats happening\n",
        "  if epoch % 20 ==0:  \n",
        "    print(f\"Epoch: {epoch} | loss: {loss} | test loss : {test_loss}\")\n",
        "    #print out model state_dict()\n",
        "    print(model_0.state_dict())"
      ],
      "metadata": {
        "colab": {
          "base_uri": "https://localhost:8080/"
        },
        "id": "LGVlD5sYgDwp",
        "outputId": "52f804c5-ef0f-4d03-aa4a-ef52ab0b2b13"
      },
      "execution_count": 18,
      "outputs": [
        {
          "output_type": "stream",
          "name": "stdout",
          "text": [
            "loss 0.7453603148460388\n",
            "Epoch: 0 | loss: 0.7453603148460388 | test loss : 0.7115941643714905\n",
            "OrderedDict([('weight', tensor([0.3445])), ('bias', tensor([0.1488]))])\n",
            "loss 0.7338393330574036\n",
            "loss 0.7223183512687683\n",
            "loss 0.7107973098754883\n",
            "loss 0.699276328086853\n",
            "loss 0.687755286693573\n",
            "loss 0.676234245300293\n",
            "loss 0.6647132635116577\n",
            "loss 0.653192400932312\n",
            "loss 0.6416712999343872\n",
            "loss 0.630150318145752\n",
            "loss 0.6186293363571167\n",
            "loss 0.6071082949638367\n",
            "loss 0.5955873727798462\n",
            "loss 0.5840662717819214\n",
            "loss 0.5725453495979309\n",
            "loss 0.5610243082046509\n",
            "loss 0.5495033860206604\n",
            "loss 0.5379823446273804\n",
            "loss 0.5264613628387451\n",
            "loss 0.5149403810501099\n",
            "Epoch: 20 | loss: 0.5149403810501099 | test loss : 0.44217434525489807\n",
            "OrderedDict([('weight', tensor([0.4225])), ('bias', tensor([0.3488]))])\n",
            "loss 0.5034194588661194\n",
            "loss 0.49189844727516174\n",
            "loss 0.4803773760795593\n",
            "loss 0.46885648369789124\n",
            "loss 0.4573354721069336\n",
            "loss 0.44581446051597595\n",
            "loss 0.4342934489250183\n",
            "loss 0.4227725565433502\n",
            "loss 0.4112514853477478\n",
            "loss 0.3997305929660797\n",
            "loss 0.3882095217704773\n",
            "loss 0.37668856978416443\n",
            "loss 0.3651675581932068\n",
            "loss 0.3536466062068939\n",
            "loss 0.3421255946159363\n",
            "loss 0.330604612827301\n",
            "loss 0.319083571434021\n",
            "loss 0.3075626492500305\n",
            "loss 0.2960416078567505\n",
            "loss 0.2845206558704376\n",
            "Epoch: 40 | loss: 0.2845206558704376 | test loss : 0.17275464534759521\n",
            "OrderedDict([('weight', tensor([0.5005])), ('bias', tensor([0.5488]))])\n",
            "loss 0.27299964427948\n",
            "loss 0.2614786922931671\n",
            "loss 0.24995768070220947\n",
            "loss 0.23843666911125183\n",
            "loss 0.22691568732261658\n",
            "loss 0.21539470553398132\n",
            "loss 0.20387372374534607\n",
            "loss 0.19235274195671082\n",
            "loss 0.18083176016807556\n",
            "loss 0.1693107783794403\n",
            "loss 0.15778976678848267\n",
            "loss 0.1462687849998474\n",
            "loss 0.13474778831005096\n",
            "loss 0.12322680652141571\n",
            "loss 0.11170582473278046\n",
            "loss 0.10022590309381485\n",
            "loss 0.09048726409673691\n",
            "loss 0.08301489055156708\n",
            "loss 0.07731032371520996\n",
            "loss 0.073033407330513\n",
            "Epoch: 60 | loss: 0.073033407330513 | test loss : 0.07688648998737335\n",
            "OrderedDict([('weight', tensor([0.5697])), ('bias', tensor([0.7368]))])\n",
            "loss 0.06952375918626785\n",
            "loss 0.06667295098304749\n",
            "loss 0.06437570601701736\n",
            "loss 0.06252969056367874\n",
            "loss 0.061035431921482086\n",
            "loss 0.05979626253247261\n",
            "loss 0.058854006230831146\n",
            "loss 0.05791175365447998\n",
            "loss 0.057101212441921234\n",
            "loss 0.056395210325717926\n",
            "loss 0.055759064853191376\n",
            "loss 0.055229105055332184\n",
            "loss 0.054699160158634186\n",
            "loss 0.05419355630874634\n",
            "loss 0.05378088355064392\n",
            "loss 0.053368162363767624\n",
            "loss 0.052955470979213715\n",
            "loss 0.05254277586936951\n",
            "loss 0.0521300844848156\n",
            "loss 0.05174746364355087\n",
            "Epoch: 80 | loss: 0.05174746364355087 | test loss : 0.11503084003925323\n",
            "OrderedDict([('weight', tensor([0.5536])), ('bias', tensor([0.7893]))])\n",
            "loss 0.051394663751125336\n",
            "loss 0.051041848957538605\n",
            "loss 0.050689030438661575\n",
            "loss 0.05033621937036514\n",
            "loss 0.04998340457677841\n",
            "loss 0.049630600959062576\n",
            "loss 0.049277789890766144\n",
            "loss 0.04892497509717941\n",
            "loss 0.04857216402888298\n",
            "loss 0.048219360411167145\n",
            "loss 0.047866541892290115\n",
            "loss 0.04751373082399368\n",
            "loss 0.04716092720627785\n",
            "loss 0.04681550711393356\n",
            "loss 0.046471916139125824\n",
            "loss 0.04613030329346657\n",
            "loss 0.045782893896102905\n",
            "loss 0.045445095747709274\n",
            "loss 0.04509609192609787\n",
            "loss 0.04475768655538559\n",
            "Epoch: 100 | loss: 0.04475768655538559 | test loss : 0.10398093611001968\n",
            "OrderedDict([('weight', tensor([0.5210])), ('bias', tensor([0.8073]))])\n",
            "loss 0.04441089183092117\n",
            "loss 0.04406866431236267\n",
            "loss 0.043725691735744476\n",
            "loss 0.04337965324521065\n",
            "loss 0.043040480464696884\n",
            "loss 0.04269148036837578\n",
            "loss 0.042354434728622437\n",
            "loss 0.04200628027319908\n",
            "loss 0.041665416210889816\n",
            "loss 0.041321076452732086\n",
            "loss 0.04097641259431839\n",
            "loss 0.04063587635755539\n",
            "loss 0.04028739407658577\n",
            "loss 0.039950672537088394\n",
            "loss 0.03960167244076729\n",
            "loss 0.039262183010578156\n",
            "loss 0.03891646862030029\n",
            "loss 0.038573168218135834\n",
            "loss 0.038231261074543\n",
            "loss 0.03788416460156441\n",
            "Epoch: 120 | loss: 0.03788416460156441 | test loss : 0.08812306076288223\n",
            "OrderedDict([('weight', tensor([0.4869])), ('bias', tensor([0.8218]))])\n",
            "loss 0.0375460609793663\n",
            "loss 0.037197064608335495\n",
            "loss 0.0368589423596859\n",
            "loss 0.0365118607878685\n",
            "loss 0.03616992384195328\n",
            "loss 0.0358266606926918\n",
            "loss 0.03548092395067215\n",
            "loss 0.03514144569635391\n",
            "loss 0.0347924530506134\n",
            "loss 0.03445569798350334\n",
            "loss 0.03410724550485611\n",
            "loss 0.03376667946577072\n",
            "loss 0.033422041684389114\n",
            "loss 0.033077675849199295\n",
            "loss 0.032736845314502716\n",
            "loss 0.03238866478204727\n",
            "loss 0.032051634043455124\n",
            "loss 0.031702637672424316\n",
            "loss 0.03136344999074936\n",
            "loss 0.031017428264021873\n",
            "Epoch: 140 | loss: 0.031017428264021873 | test loss : 0.07157832384109497\n",
            "OrderedDict([('weight', tensor([0.4525])), ('bias', tensor([0.8358]))])\n",
            "loss 0.030674433335661888\n",
            "loss 0.030332231894135475\n",
            "loss 0.029985416680574417\n",
            "loss 0.02964702807366848\n",
            "loss 0.029298031702637672\n",
            "loss 0.028960198163986206\n",
            "loss 0.02861282229423523\n",
            "loss 0.02827119268476963\n",
            "loss 0.02792762778699398\n",
            "loss 0.02758217416703701\n",
            "loss 0.02724241279065609\n",
            "loss 0.026893416419625282\n",
            "loss 0.026556963101029396\n",
            "loss 0.026208212599158287\n",
            "loss 0.025867950171232224\n",
            "loss 0.025523006916046143\n",
            "loss 0.025178948417305946\n",
            "loss 0.024837804958224297\n",
            "loss 0.02448992058634758\n",
            "loss 0.02415260300040245\n",
            "Epoch: 160 | loss: 0.02415260300040245 | test loss : 0.05572044849395752\n",
            "OrderedDict([('weight', tensor([0.4184])), ('bias', tensor([0.8503]))])\n",
            "loss 0.023803602904081345\n",
            "loss 0.02346469834446907\n",
            "loss 0.02311839908361435\n",
            "loss 0.022775691002607346\n",
            "loss 0.022433197125792503\n",
            "loss 0.02208665944635868\n",
            "loss 0.02174799144268036\n",
            "loss 0.02139899507164955\n",
            "loss 0.02106146514415741\n",
            "loss 0.02071378007531166\n",
            "loss 0.02037244662642479\n",
            "loss 0.02002858743071556\n",
            "loss 0.019683439284563065\n",
            "loss 0.019343355670571327\n",
            "loss 0.018994411453604698\n",
            "loss 0.01865818165242672\n",
            "loss 0.018309181556105614\n",
            "loss 0.01796920783817768\n",
            "loss 0.01762397214770317\n",
            "loss 0.01728018932044506\n",
            "Epoch: 180 | loss: 0.01728018932044506 | test loss : 0.03986257314682007\n",
            "OrderedDict([('weight', tensor([0.3843])), ('bias', tensor([0.8648]))])\n",
            "loss 0.016938768327236176\n",
            "loss 0.016591180115938187\n",
            "loss 0.016253557056188583\n",
            "loss 0.015904569998383522\n",
            "loss 0.01556597650051117\n",
            "loss 0.015219365246593952\n",
            "loss 0.014876944944262505\n",
            "loss 0.014534162357449532\n",
            "loss 0.014187939465045929\n",
            "loss 0.013848960399627686\n",
            "loss 0.013499950990080833\n",
            "loss 0.013162720017135143\n",
            "loss 0.012814769521355629\n",
            "loss 0.012473730370402336\n",
            "loss 0.012129547074437141\n",
            "loss 0.011784695088863373\n",
            "loss 0.011444352567195892\n",
            "loss 0.011095684953033924\n",
            "loss 0.010759142227470875\n",
            "loss 0.010410144925117493\n",
            "Epoch: 200 | loss: 0.010410144925117493 | test loss : 0.023317862302064896\n",
            "OrderedDict([('weight', tensor([0.3500])), ('bias', tensor([0.8788]))])\n",
            "loss 0.010070462711155415\n",
            "loss 0.009724952280521393\n",
            "loss 0.009381445124745369\n",
            "loss 0.009039737284183502\n",
            "loss 0.008692438714206219\n",
            "loss 0.008354539051651955\n",
            "loss 0.0080055370926857\n",
            "loss 0.007667222525924444\n",
            "loss 0.007320330943912268\n",
            "loss 0.0069782123900949955\n",
            "loss 0.006635109893977642\n",
            "loss 0.006289194338023663\n",
            "loss 0.0059499191120266914\n",
            "loss 0.0056009190157055855\n",
            "loss 0.005263976752758026\n",
            "loss 0.0049157170578837395\n",
            "loss 0.004574969410896301\n",
            "loss 0.004230516962707043\n",
            "loss 0.003885951591655612\n",
            "loss 0.0035453052259981632\n",
            "Epoch: 220 | loss: 0.0035453052259981632 | test loss : 0.00745999813079834\n",
            "OrderedDict([('weight', tensor([0.3159])), ('bias', tensor([0.8933]))])\n",
            "loss 0.0031969472765922546\n",
            "loss 0.0028617815114557743\n",
            "loss 0.002541241003200412\n",
            "loss 0.002283382462337613\n",
            "loss 0.002207401441410184\n",
            "loss 0.003967669792473316\n",
            "loss 0.007553315255790949\n",
            "loss 0.003967669792473316\n",
            "loss 0.007553315255790949\n",
            "loss 0.003967669792473316\n",
            "loss 0.007553315255790949\n",
            "loss 0.003967669792473316\n",
            "loss 0.007553315255790949\n",
            "loss 0.003967669792473316\n",
            "loss 0.007553315255790949\n",
            "loss 0.003967669792473316\n",
            "loss 0.007553315255790949\n",
            "loss 0.003967669792473316\n",
            "loss 0.007553315255790949\n",
            "loss 0.003967669792473316\n",
            "Epoch: 240 | loss: 0.003967669792473316 | test loss : 0.004813837818801403\n",
            "OrderedDict([('weight', tensor([0.3055])), ('bias', tensor([0.8903]))])\n",
            "loss 0.007553315255790949\n",
            "loss 0.003967669792473316\n",
            "loss 0.007553315255790949\n",
            "loss 0.003967669792473316\n",
            "loss 0.007553315255790949\n",
            "loss 0.003967669792473316\n",
            "loss 0.007553315255790949\n",
            "loss 0.003967669792473316\n",
            "loss 0.007553315255790949\n",
            "loss 0.003967669792473316\n",
            "loss 0.007553315255790949\n",
            "loss 0.003967669792473316\n",
            "loss 0.007553315255790949\n",
            "loss 0.003967669792473316\n",
            "loss 0.007553315255790949\n",
            "loss 0.003967669792473316\n",
            "loss 0.007553315255790949\n",
            "loss 0.003967669792473316\n",
            "loss 0.007553315255790949\n",
            "loss 0.003967669792473316\n",
            "Epoch: 260 | loss: 0.003967669792473316 | test loss : 0.004813837818801403\n",
            "OrderedDict([('weight', tensor([0.3055])), ('bias', tensor([0.8903]))])\n",
            "loss 0.007553315255790949\n",
            "loss 0.003967669792473316\n",
            "loss 0.007553315255790949\n",
            "loss 0.003967669792473316\n",
            "loss 0.007553315255790949\n",
            "loss 0.003967669792473316\n",
            "loss 0.007553315255790949\n",
            "loss 0.003967669792473316\n",
            "loss 0.007553315255790949\n",
            "loss 0.003967669792473316\n",
            "loss 0.007553315255790949\n",
            "loss 0.003967669792473316\n",
            "loss 0.007553315255790949\n",
            "loss 0.003967669792473316\n",
            "loss 0.007553315255790949\n",
            "loss 0.003967669792473316\n",
            "loss 0.007553315255790949\n",
            "loss 0.003967669792473316\n",
            "loss 0.007553315255790949\n",
            "loss 0.003967669792473316\n",
            "Epoch: 280 | loss: 0.003967669792473316 | test loss : 0.004813837818801403\n",
            "OrderedDict([('weight', tensor([0.3055])), ('bias', tensor([0.8903]))])\n",
            "loss 0.007553315255790949\n",
            "loss 0.003967669792473316\n",
            "loss 0.007553315255790949\n",
            "loss 0.003967669792473316\n",
            "loss 0.007553315255790949\n",
            "loss 0.003967669792473316\n",
            "loss 0.007553315255790949\n",
            "loss 0.003967669792473316\n",
            "loss 0.007553315255790949\n",
            "loss 0.003967669792473316\n",
            "loss 0.007553315255790949\n",
            "loss 0.003967669792473316\n",
            "loss 0.007553315255790949\n",
            "loss 0.003967669792473316\n",
            "loss 0.007553315255790949\n",
            "loss 0.003967669792473316\n",
            "loss 0.007553315255790949\n",
            "loss 0.003967669792473316\n",
            "loss 0.007553315255790949\n"
          ]
        }
      ]
    },
    {
      "cell_type": "code",
      "source": [
        "model_0.state_dict()"
      ],
      "metadata": {
        "colab": {
          "base_uri": "https://localhost:8080/"
        },
        "id": "jOsbcEGbijpg",
        "outputId": "44ea3909-9a03-4985-963d-8a2950deecc3"
      },
      "execution_count": 19,
      "outputs": [
        {
          "output_type": "execute_result",
          "data": {
            "text/plain": [
              "OrderedDict([('weight', tensor([0.3094])), ('bias', tensor([0.9003]))])"
            ]
          },
          "metadata": {},
          "execution_count": 19
        }
      ]
    },
    {
      "cell_type": "code",
      "source": [
        "with torch.inference_mode():\n",
        "  y_preds_new = model_0(x_test)\n",
        "\n",
        "plot_predictions(predictions = y_preds_new)"
      ],
      "metadata": {
        "colab": {
          "base_uri": "https://localhost:8080/",
          "height": 428
        },
        "id": "8U5k_OM0ioBo",
        "outputId": "20c0112b-583d-4ff4-c3a5-a33d2990cacf"
      },
      "execution_count": 21,
      "outputs": [
        {
          "output_type": "display_data",
          "data": {
            "text/plain": [
              "<Figure size 720x504 with 1 Axes>"
            ],
            "image/png": "[encoded data removed]"
          },
          "metadata": {
            "needs_background": "light"
          }
        }
      ]
    },
    {
      "cell_type": "code",
      "source": [],
      "metadata": {
        "id": "z_yvCHitjCAa"
      },
      "execution_count": null,
      "outputs": []
    }
  ]
}